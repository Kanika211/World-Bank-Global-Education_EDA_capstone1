{
  "nbformat": 4,
  "nbformat_minor": 0,
  "metadata": {
    "colab": {
      "name": "World Bank Global Education_Capstone1.ipynb",
      "provenance": [],
      "authorship_tag": "ABX9TyMl6vyS3Y0EGR9M03XYj9EW",
      "include_colab_link": true
    },
    "kernelspec": {
      "name": "python3",
      "display_name": "Python 3"
    },
    "language_info": {
      "name": "python"
    }
  },
  "cells": [
    {
      "cell_type": "markdown",
      "metadata": {
        "id": "view-in-github",
        "colab_type": "text"
      },
      "source": [
        "<a href=\"https://colab.research.google.com/github/Kanika211/World-Bank-Global-Education_EDA_capstone1/blob/main/World_Bank_Global_Education_Capstone1.ipynb\" target=\"_parent\"><img src=\"https://colab.research.google.com/assets/colab-badge.svg\" alt=\"Open In Colab\"/></a>"
      ]
    },
    {
      "cell_type": "markdown",
      "metadata": {
        "id": "pYJyl_9vAuJt"
      },
      "source": [
        "##**</u>World Bank Global Education Group**</u>"
      ]
    },
    {
      "cell_type": "markdown",
      "metadata": {
        "id": "-vSjCtIJA2gu"
      },
      "source": [
        "#### The world bank global group is the largest financier of education. It's main strategy is focused on <b>\"learning for all\".<b>"
      ]
    },
    {
      "cell_type": "markdown",
      "metadata": {
        "id": "AUUjxQB2A7hV"
      },
      "source": [
        "##### Now talk's about what world bank does and how it works for Education...."
      ]
    },
    {
      "cell_type": "markdown",
      "metadata": {
        "id": "ni5lptBhA-1f"
      },
      "source": [
        "## <b>What is World Bank?<b>"
      ]
    },
    {
      "cell_type": "markdown",
      "metadata": {
        "id": "cQcdsWqzBB6H"
      },
      "source": [
        "* The World Bank is an international organization dedicated to providing financing, advice, and research to developing nations to aid their economic advancement. The bank predominantly acts as an organization that attempts to fight poverty by offering developmental assistance to middle- and low-income countries."
      ]
    },
    {
      "cell_type": "markdown",
      "metadata": {
        "id": "W9rJA_dFBFcl"
      },
      "source": [
        "##  <b>What is the purpose of Global Education?</b>\n",
        "\n",
        "\n",
        "The main purpose is opening a global dimension and a holistic perspective in education in order to help and understand the complex realities, develope values, knowledge and skills that enable them to face the challenges.\n"
      ]
    },
    {
      "cell_type": "markdown",
      "metadata": {
        "id": "XXE6_isqBai1"
      },
      "source": [
        "### Let's take a look at the problem statement"
      ]
    },
    {
      "cell_type": "markdown",
      "metadata": {
        "id": "YU8vptw7BkbM"
      },
      "source": [
        "### <b>The World Bank EdStats All Indicator Query holds over 4,000 internationally comparable indicators that describe education access, progression, completion, literacy, teachers, population, and expenditures.The indicators cover the education cycle from pre-primary to vocational and tertiary education and also holds learning outcome data from international and regional learning assessments (e.g. PISA, TIMSS, PIRLS), equity data from household surveys, and projection/attainment data.<b>\n",
        "Explore and analyze the data to identify variation of indicators across the globe, which countries are more alike and different. Feel free to add more extensive analyses and details."
      ]
    },
    {
      "cell_type": "markdown",
      "metadata": {
        "id": "_WVGUxXWBpvN"
      },
      "source": [
        "let's get into this and filtering out the ideas...\n",
        "\n",
        "<b>First to import all the libraries<b>"
      ]
    },
    {
      "cell_type": "code",
      "metadata": {
        "id": "3wNycfhdB3Y9"
      },
      "source": [
        "from collections import Counter\n",
        "import numpy as np\n",
        "import pandas as pd\n",
        "import matplotlib.pyplot as plt\n",
        "import seaborn as sns"
      ],
      "execution_count": 1,
      "outputs": []
    },
    {
      "cell_type": "markdown",
      "metadata": {
        "id": "hGYpElPuB8H_"
      },
      "source": [
        "##### Let's Mount the Drive and analyse the data..."
      ]
    },
    {
      "cell_type": "code",
      "metadata": {
        "colab": {
          "base_uri": "https://localhost:8080/"
        },
        "id": "Nu4le6jgB9Ze",
        "outputId": "b99e8505-9874-4286-9dfa-33e50edbddb1"
      },
      "source": [
        "from google.colab import drive\n",
        "drive.mount('/content/drive')"
      ],
      "execution_count": 2,
      "outputs": [
        {
          "output_type": "stream",
          "name": "stdout",
          "text": [
            "Mounted at /content/drive\n"
          ]
        }
      ]
    },
    {
      "cell_type": "markdown",
      "metadata": {
        "id": "ATT8-FCeCLhE"
      },
      "source": [
        "######Now First, try to evaluate all the Datasets and, it's relevance with the problem..."
      ]
    },
    {
      "cell_type": "code",
      "metadata": {
        "id": "DS1DV8AuCS9b"
      },
      "source": [
        "working_path = '/content/drive/MyDrive/Colab Notebooks'"
      ],
      "execution_count": 3,
      "outputs": []
    },
    {
      "cell_type": "markdown",
      "metadata": {
        "id": "PaxjHfkwCWoM"
      },
      "source": [
        "Working path of all the datasets.."
      ]
    },
    {
      "cell_type": "code",
      "metadata": {
        "id": "aT9gH0FTCXTE"
      },
      "source": [
        "Edstats_country_df = pd.read_csv('/content/drive/MyDrive/Colab Notebooks/EdStatsCountry.csv')\n",
        "Edstats_country_series_df = pd.read_csv('/content/drive/MyDrive/Colab Notebooks/EdStatsCountry-Series.csv')\n",
        "Edstats_data_df = pd.read_csv('/content/drive/MyDrive/Colab Notebooks/EdStatsData.csv')\n",
        "Edstats_footnotes_df = pd.read_csv('/content/drive/MyDrive/Colab Notebooks/EdStatsFootNote.csv')\n",
        "Edstats_series_df = pd.read_csv('/content/drive/MyDrive/Colab Notebooks/EdStatsSeries.csv')"
      ],
      "execution_count": 4,
      "outputs": []
    },
    {
      "cell_type": "markdown",
      "metadata": {
        "id": "67tjB1Q8CgNz"
      },
      "source": [
        "##<b>EdStats Data"
      ]
    },
    {
      "cell_type": "markdown",
      "metadata": {
        "id": "QuPOab0aCksE"
      },
      "source": [
        "Well, that's almost a million records. So, here we can see quite a lot of them are NaN, and some are years that exceed even 2020. So from here, we can assume that those years are nothing but predictions.\n",
        "We will now account for those years that have passed the limit of 1999 and ignore the predictions as they might affect our analyses."
      ]
    },
    {
      "cell_type": "code",
      "metadata": {
        "colab": {
          "base_uri": "https://localhost:8080/"
        },
        "id": "v-CnoYNCCpPT",
        "outputId": "884217da-b80a-44d1-8b1f-5102621dda33"
      },
      "source": [
        "Edstats_data_df.info()"
      ],
      "execution_count": 5,
      "outputs": [
        {
          "output_type": "stream",
          "name": "stdout",
          "text": [
            "<class 'pandas.core.frame.DataFrame'>\n",
            "RangeIndex: 886930 entries, 0 to 886929\n",
            "Data columns (total 70 columns):\n",
            " #   Column          Non-Null Count   Dtype  \n",
            "---  ------          --------------   -----  \n",
            " 0   Country Name    886930 non-null  object \n",
            " 1   Country Code    886930 non-null  object \n",
            " 2   Indicator Name  886930 non-null  object \n",
            " 3   Indicator Code  886930 non-null  object \n",
            " 4   1970            72288 non-null   float64\n",
            " 5   1971            35537 non-null   float64\n",
            " 6   1972            35619 non-null   float64\n",
            " 7   1973            35545 non-null   float64\n",
            " 8   1974            35730 non-null   float64\n",
            " 9   1975            87306 non-null   float64\n",
            " 10  1976            37483 non-null   float64\n",
            " 11  1977            37574 non-null   float64\n",
            " 12  1978            37576 non-null   float64\n",
            " 13  1979            36809 non-null   float64\n",
            " 14  1980            89122 non-null   float64\n",
            " 15  1981            38777 non-null   float64\n",
            " 16  1982            37511 non-null   float64\n",
            " 17  1983            38460 non-null   float64\n",
            " 18  1984            38606 non-null   float64\n",
            " 19  1985            90296 non-null   float64\n",
            " 20  1986            39372 non-null   float64\n",
            " 21  1987            38641 non-null   float64\n",
            " 22  1988            38552 non-null   float64\n",
            " 23  1989            37540 non-null   float64\n",
            " 24  1990            124405 non-null  float64\n",
            " 25  1991            74437 non-null   float64\n",
            " 26  1992            75543 non-null   float64\n",
            " 27  1993            75793 non-null   float64\n",
            " 28  1994            77462 non-null   float64\n",
            " 29  1995            131361 non-null  float64\n",
            " 30  1996            76807 non-null   float64\n",
            " 31  1997            73453 non-null   float64\n",
            " 32  1998            84914 non-null   float64\n",
            " 33  1999            118839 non-null  float64\n",
            " 34  2000            176676 non-null  float64\n",
            " 35  2001            123509 non-null  float64\n",
            " 36  2002            124205 non-null  float64\n",
            " 37  2003            130363 non-null  float64\n",
            " 38  2004            128814 non-null  float64\n",
            " 39  2005            184108 non-null  float64\n",
            " 40  2006            140312 non-null  float64\n",
            " 41  2007            137272 non-null  float64\n",
            " 42  2008            134387 non-null  float64\n",
            " 43  2009            142108 non-null  float64\n",
            " 44  2010            242442 non-null  float64\n",
            " 45  2011            146012 non-null  float64\n",
            " 46  2012            147264 non-null  float64\n",
            " 47  2013            137509 non-null  float64\n",
            " 48  2014            113789 non-null  float64\n",
            " 49  2015            131058 non-null  float64\n",
            " 50  2016            16460 non-null   float64\n",
            " 51  2017            143 non-null     float64\n",
            " 52  2020            51436 non-null   float64\n",
            " 53  2025            51436 non-null   float64\n",
            " 54  2030            51436 non-null   float64\n",
            " 55  2035            51436 non-null   float64\n",
            " 56  2040            51436 non-null   float64\n",
            " 57  2045            51436 non-null   float64\n",
            " 58  2050            51436 non-null   float64\n",
            " 59  2055            51436 non-null   float64\n",
            " 60  2060            51436 non-null   float64\n",
            " 61  2065            51436 non-null   float64\n",
            " 62  2070            51436 non-null   float64\n",
            " 63  2075            51436 non-null   float64\n",
            " 64  2080            51436 non-null   float64\n",
            " 65  2085            51436 non-null   float64\n",
            " 66  2090            51436 non-null   float64\n",
            " 67  2095            51436 non-null   float64\n",
            " 68  2100            51436 non-null   float64\n",
            " 69  Unnamed: 69     0 non-null       float64\n",
            "dtypes: float64(66), object(4)\n",
            "memory usage: 473.7+ MB\n"
          ]
        }
      ]
    },
    {
      "cell_type": "code",
      "metadata": {
        "colab": {
          "base_uri": "https://localhost:8080/"
        },
        "id": "nwKIGv-QCt_j",
        "outputId": "8c76ec52-f94a-4a1e-ad42-0de7dcfb3c90"
      },
      "source": [
        "Edstats_data_df.shape"
      ],
      "execution_count": 6,
      "outputs": [
        {
          "output_type": "execute_result",
          "data": {
            "text/plain": [
              "(886930, 70)"
            ]
          },
          "metadata": {},
          "execution_count": 6
        }
      ]
    },
    {
      "cell_type": "code",
      "metadata": {
        "colab": {
          "base_uri": "https://localhost:8080/",
          "height": 655
        },
        "id": "LHIMv1bYCzak",
        "outputId": "bac821fe-0f79-4c67-986b-4f788cfb4ec5"
      },
      "source": [
        "Edstats_data_df.head()"
      ],
      "execution_count": 7,
      "outputs": [
        {
          "output_type": "execute_result",
          "data": {
            "text/html": [
              "<div>\n",
              "<style scoped>\n",
              "    .dataframe tbody tr th:only-of-type {\n",
              "        vertical-align: middle;\n",
              "    }\n",
              "\n",
              "    .dataframe tbody tr th {\n",
              "        vertical-align: top;\n",
              "    }\n",
              "\n",
              "    .dataframe thead th {\n",
              "        text-align: right;\n",
              "    }\n",
              "</style>\n",
              "<table border=\"1\" class=\"dataframe\">\n",
              "  <thead>\n",
              "    <tr style=\"text-align: right;\">\n",
              "      <th></th>\n",
              "      <th>Country Name</th>\n",
              "      <th>Country Code</th>\n",
              "      <th>Indicator Name</th>\n",
              "      <th>Indicator Code</th>\n",
              "      <th>1970</th>\n",
              "      <th>1971</th>\n",
              "      <th>1972</th>\n",
              "      <th>1973</th>\n",
              "      <th>1974</th>\n",
              "      <th>1975</th>\n",
              "      <th>1976</th>\n",
              "      <th>1977</th>\n",
              "      <th>1978</th>\n",
              "      <th>1979</th>\n",
              "      <th>1980</th>\n",
              "      <th>1981</th>\n",
              "      <th>1982</th>\n",
              "      <th>1983</th>\n",
              "      <th>1984</th>\n",
              "      <th>1985</th>\n",
              "      <th>1986</th>\n",
              "      <th>1987</th>\n",
              "      <th>1988</th>\n",
              "      <th>1989</th>\n",
              "      <th>1990</th>\n",
              "      <th>1991</th>\n",
              "      <th>1992</th>\n",
              "      <th>1993</th>\n",
              "      <th>1994</th>\n",
              "      <th>1995</th>\n",
              "      <th>1996</th>\n",
              "      <th>1997</th>\n",
              "      <th>1998</th>\n",
              "      <th>1999</th>\n",
              "      <th>2000</th>\n",
              "      <th>2001</th>\n",
              "      <th>2002</th>\n",
              "      <th>2003</th>\n",
              "      <th>2004</th>\n",
              "      <th>2005</th>\n",
              "      <th>2006</th>\n",
              "      <th>2007</th>\n",
              "      <th>2008</th>\n",
              "      <th>2009</th>\n",
              "      <th>2010</th>\n",
              "      <th>2011</th>\n",
              "      <th>2012</th>\n",
              "      <th>2013</th>\n",
              "      <th>2014</th>\n",
              "      <th>2015</th>\n",
              "      <th>2016</th>\n",
              "      <th>2017</th>\n",
              "      <th>2020</th>\n",
              "      <th>2025</th>\n",
              "      <th>2030</th>\n",
              "      <th>2035</th>\n",
              "      <th>2040</th>\n",
              "      <th>2045</th>\n",
              "      <th>2050</th>\n",
              "      <th>2055</th>\n",
              "      <th>2060</th>\n",
              "      <th>2065</th>\n",
              "      <th>2070</th>\n",
              "      <th>2075</th>\n",
              "      <th>2080</th>\n",
              "      <th>2085</th>\n",
              "      <th>2090</th>\n",
              "      <th>2095</th>\n",
              "      <th>2100</th>\n",
              "      <th>Unnamed: 69</th>\n",
              "    </tr>\n",
              "  </thead>\n",
              "  <tbody>\n",
              "    <tr>\n",
              "      <th>0</th>\n",
              "      <td>Arab World</td>\n",
              "      <td>ARB</td>\n",
              "      <td>Adjusted net enrolment rate, lower secondary, ...</td>\n",
              "      <td>UIS.NERA.2</td>\n",
              "      <td>NaN</td>\n",
              "      <td>NaN</td>\n",
              "      <td>NaN</td>\n",
              "      <td>NaN</td>\n",
              "      <td>NaN</td>\n",
              "      <td>NaN</td>\n",
              "      <td>NaN</td>\n",
              "      <td>NaN</td>\n",
              "      <td>NaN</td>\n",
              "      <td>NaN</td>\n",
              "      <td>NaN</td>\n",
              "      <td>NaN</td>\n",
              "      <td>NaN</td>\n",
              "      <td>NaN</td>\n",
              "      <td>NaN</td>\n",
              "      <td>NaN</td>\n",
              "      <td>NaN</td>\n",
              "      <td>NaN</td>\n",
              "      <td>NaN</td>\n",
              "      <td>NaN</td>\n",
              "      <td>NaN</td>\n",
              "      <td>NaN</td>\n",
              "      <td>NaN</td>\n",
              "      <td>NaN</td>\n",
              "      <td>NaN</td>\n",
              "      <td>NaN</td>\n",
              "      <td>NaN</td>\n",
              "      <td>NaN</td>\n",
              "      <td>NaN</td>\n",
              "      <td>NaN</td>\n",
              "      <td>NaN</td>\n",
              "      <td>NaN</td>\n",
              "      <td>NaN</td>\n",
              "      <td>NaN</td>\n",
              "      <td>NaN</td>\n",
              "      <td>NaN</td>\n",
              "      <td>NaN</td>\n",
              "      <td>NaN</td>\n",
              "      <td>NaN</td>\n",
              "      <td>NaN</td>\n",
              "      <td>NaN</td>\n",
              "      <td>NaN</td>\n",
              "      <td>NaN</td>\n",
              "      <td>NaN</td>\n",
              "      <td>NaN</td>\n",
              "      <td>NaN</td>\n",
              "      <td>NaN</td>\n",
              "      <td>NaN</td>\n",
              "      <td>NaN</td>\n",
              "      <td>NaN</td>\n",
              "      <td>NaN</td>\n",
              "      <td>NaN</td>\n",
              "      <td>NaN</td>\n",
              "      <td>NaN</td>\n",
              "      <td>NaN</td>\n",
              "      <td>NaN</td>\n",
              "      <td>NaN</td>\n",
              "      <td>NaN</td>\n",
              "      <td>NaN</td>\n",
              "      <td>NaN</td>\n",
              "      <td>NaN</td>\n",
              "      <td>NaN</td>\n",
              "      <td>NaN</td>\n",
              "      <td>NaN</td>\n",
              "      <td>NaN</td>\n",
              "      <td>NaN</td>\n",
              "    </tr>\n",
              "    <tr>\n",
              "      <th>1</th>\n",
              "      <td>Arab World</td>\n",
              "      <td>ARB</td>\n",
              "      <td>Adjusted net enrolment rate, lower secondary, ...</td>\n",
              "      <td>UIS.NERA.2.F</td>\n",
              "      <td>NaN</td>\n",
              "      <td>NaN</td>\n",
              "      <td>NaN</td>\n",
              "      <td>NaN</td>\n",
              "      <td>NaN</td>\n",
              "      <td>NaN</td>\n",
              "      <td>NaN</td>\n",
              "      <td>NaN</td>\n",
              "      <td>NaN</td>\n",
              "      <td>NaN</td>\n",
              "      <td>NaN</td>\n",
              "      <td>NaN</td>\n",
              "      <td>NaN</td>\n",
              "      <td>NaN</td>\n",
              "      <td>NaN</td>\n",
              "      <td>NaN</td>\n",
              "      <td>NaN</td>\n",
              "      <td>NaN</td>\n",
              "      <td>NaN</td>\n",
              "      <td>NaN</td>\n",
              "      <td>NaN</td>\n",
              "      <td>NaN</td>\n",
              "      <td>NaN</td>\n",
              "      <td>NaN</td>\n",
              "      <td>NaN</td>\n",
              "      <td>NaN</td>\n",
              "      <td>NaN</td>\n",
              "      <td>NaN</td>\n",
              "      <td>NaN</td>\n",
              "      <td>NaN</td>\n",
              "      <td>NaN</td>\n",
              "      <td>NaN</td>\n",
              "      <td>NaN</td>\n",
              "      <td>NaN</td>\n",
              "      <td>NaN</td>\n",
              "      <td>NaN</td>\n",
              "      <td>NaN</td>\n",
              "      <td>NaN</td>\n",
              "      <td>NaN</td>\n",
              "      <td>NaN</td>\n",
              "      <td>NaN</td>\n",
              "      <td>NaN</td>\n",
              "      <td>NaN</td>\n",
              "      <td>NaN</td>\n",
              "      <td>NaN</td>\n",
              "      <td>NaN</td>\n",
              "      <td>NaN</td>\n",
              "      <td>NaN</td>\n",
              "      <td>NaN</td>\n",
              "      <td>NaN</td>\n",
              "      <td>NaN</td>\n",
              "      <td>NaN</td>\n",
              "      <td>NaN</td>\n",
              "      <td>NaN</td>\n",
              "      <td>NaN</td>\n",
              "      <td>NaN</td>\n",
              "      <td>NaN</td>\n",
              "      <td>NaN</td>\n",
              "      <td>NaN</td>\n",
              "      <td>NaN</td>\n",
              "      <td>NaN</td>\n",
              "      <td>NaN</td>\n",
              "      <td>NaN</td>\n",
              "      <td>NaN</td>\n",
              "      <td>NaN</td>\n",
              "      <td>NaN</td>\n",
              "    </tr>\n",
              "    <tr>\n",
              "      <th>2</th>\n",
              "      <td>Arab World</td>\n",
              "      <td>ARB</td>\n",
              "      <td>Adjusted net enrolment rate, lower secondary, ...</td>\n",
              "      <td>UIS.NERA.2.GPI</td>\n",
              "      <td>NaN</td>\n",
              "      <td>NaN</td>\n",
              "      <td>NaN</td>\n",
              "      <td>NaN</td>\n",
              "      <td>NaN</td>\n",
              "      <td>NaN</td>\n",
              "      <td>NaN</td>\n",
              "      <td>NaN</td>\n",
              "      <td>NaN</td>\n",
              "      <td>NaN</td>\n",
              "      <td>NaN</td>\n",
              "      <td>NaN</td>\n",
              "      <td>NaN</td>\n",
              "      <td>NaN</td>\n",
              "      <td>NaN</td>\n",
              "      <td>NaN</td>\n",
              "      <td>NaN</td>\n",
              "      <td>NaN</td>\n",
              "      <td>NaN</td>\n",
              "      <td>NaN</td>\n",
              "      <td>NaN</td>\n",
              "      <td>NaN</td>\n",
              "      <td>NaN</td>\n",
              "      <td>NaN</td>\n",
              "      <td>NaN</td>\n",
              "      <td>NaN</td>\n",
              "      <td>NaN</td>\n",
              "      <td>NaN</td>\n",
              "      <td>NaN</td>\n",
              "      <td>NaN</td>\n",
              "      <td>NaN</td>\n",
              "      <td>NaN</td>\n",
              "      <td>NaN</td>\n",
              "      <td>NaN</td>\n",
              "      <td>NaN</td>\n",
              "      <td>NaN</td>\n",
              "      <td>NaN</td>\n",
              "      <td>NaN</td>\n",
              "      <td>NaN</td>\n",
              "      <td>NaN</td>\n",
              "      <td>NaN</td>\n",
              "      <td>NaN</td>\n",
              "      <td>NaN</td>\n",
              "      <td>NaN</td>\n",
              "      <td>NaN</td>\n",
              "      <td>NaN</td>\n",
              "      <td>NaN</td>\n",
              "      <td>NaN</td>\n",
              "      <td>NaN</td>\n",
              "      <td>NaN</td>\n",
              "      <td>NaN</td>\n",
              "      <td>NaN</td>\n",
              "      <td>NaN</td>\n",
              "      <td>NaN</td>\n",
              "      <td>NaN</td>\n",
              "      <td>NaN</td>\n",
              "      <td>NaN</td>\n",
              "      <td>NaN</td>\n",
              "      <td>NaN</td>\n",
              "      <td>NaN</td>\n",
              "      <td>NaN</td>\n",
              "      <td>NaN</td>\n",
              "      <td>NaN</td>\n",
              "      <td>NaN</td>\n",
              "      <td>NaN</td>\n",
              "      <td>NaN</td>\n",
              "    </tr>\n",
              "    <tr>\n",
              "      <th>3</th>\n",
              "      <td>Arab World</td>\n",
              "      <td>ARB</td>\n",
              "      <td>Adjusted net enrolment rate, lower secondary, ...</td>\n",
              "      <td>UIS.NERA.2.M</td>\n",
              "      <td>NaN</td>\n",
              "      <td>NaN</td>\n",
              "      <td>NaN</td>\n",
              "      <td>NaN</td>\n",
              "      <td>NaN</td>\n",
              "      <td>NaN</td>\n",
              "      <td>NaN</td>\n",
              "      <td>NaN</td>\n",
              "      <td>NaN</td>\n",
              "      <td>NaN</td>\n",
              "      <td>NaN</td>\n",
              "      <td>NaN</td>\n",
              "      <td>NaN</td>\n",
              "      <td>NaN</td>\n",
              "      <td>NaN</td>\n",
              "      <td>NaN</td>\n",
              "      <td>NaN</td>\n",
              "      <td>NaN</td>\n",
              "      <td>NaN</td>\n",
              "      <td>NaN</td>\n",
              "      <td>NaN</td>\n",
              "      <td>NaN</td>\n",
              "      <td>NaN</td>\n",
              "      <td>NaN</td>\n",
              "      <td>NaN</td>\n",
              "      <td>NaN</td>\n",
              "      <td>NaN</td>\n",
              "      <td>NaN</td>\n",
              "      <td>NaN</td>\n",
              "      <td>NaN</td>\n",
              "      <td>NaN</td>\n",
              "      <td>NaN</td>\n",
              "      <td>NaN</td>\n",
              "      <td>NaN</td>\n",
              "      <td>NaN</td>\n",
              "      <td>NaN</td>\n",
              "      <td>NaN</td>\n",
              "      <td>NaN</td>\n",
              "      <td>NaN</td>\n",
              "      <td>NaN</td>\n",
              "      <td>NaN</td>\n",
              "      <td>NaN</td>\n",
              "      <td>NaN</td>\n",
              "      <td>NaN</td>\n",
              "      <td>NaN</td>\n",
              "      <td>NaN</td>\n",
              "      <td>NaN</td>\n",
              "      <td>NaN</td>\n",
              "      <td>NaN</td>\n",
              "      <td>NaN</td>\n",
              "      <td>NaN</td>\n",
              "      <td>NaN</td>\n",
              "      <td>NaN</td>\n",
              "      <td>NaN</td>\n",
              "      <td>NaN</td>\n",
              "      <td>NaN</td>\n",
              "      <td>NaN</td>\n",
              "      <td>NaN</td>\n",
              "      <td>NaN</td>\n",
              "      <td>NaN</td>\n",
              "      <td>NaN</td>\n",
              "      <td>NaN</td>\n",
              "      <td>NaN</td>\n",
              "      <td>NaN</td>\n",
              "      <td>NaN</td>\n",
              "      <td>NaN</td>\n",
              "    </tr>\n",
              "    <tr>\n",
              "      <th>4</th>\n",
              "      <td>Arab World</td>\n",
              "      <td>ARB</td>\n",
              "      <td>Adjusted net enrolment rate, primary, both sex...</td>\n",
              "      <td>SE.PRM.TENR</td>\n",
              "      <td>54.822121</td>\n",
              "      <td>54.894138</td>\n",
              "      <td>56.209438</td>\n",
              "      <td>57.267109</td>\n",
              "      <td>57.991138</td>\n",
              "      <td>59.36554</td>\n",
              "      <td>60.999962</td>\n",
              "      <td>61.92268</td>\n",
              "      <td>62.69342</td>\n",
              "      <td>64.383186</td>\n",
              "      <td>65.617767</td>\n",
              "      <td>66.085152</td>\n",
              "      <td>66.608139</td>\n",
              "      <td>67.290451</td>\n",
              "      <td>68.510094</td>\n",
              "      <td>69.033211</td>\n",
              "      <td>69.944908</td>\n",
              "      <td>71.04187</td>\n",
              "      <td>71.693779</td>\n",
              "      <td>71.699097</td>\n",
              "      <td>71.995819</td>\n",
              "      <td>72.602837</td>\n",
              "      <td>70.032722</td>\n",
              "      <td>70.464821</td>\n",
              "      <td>72.645683</td>\n",
              "      <td>71.81176</td>\n",
              "      <td>73.903511</td>\n",
              "      <td>74.425201</td>\n",
              "      <td>75.110817</td>\n",
              "      <td>76.254318</td>\n",
              "      <td>77.245682</td>\n",
              "      <td>78.800522</td>\n",
              "      <td>80.051399</td>\n",
              "      <td>80.805389</td>\n",
              "      <td>81.607063</td>\n",
              "      <td>82.489487</td>\n",
              "      <td>82.685509</td>\n",
              "      <td>83.280342</td>\n",
              "      <td>84.011871</td>\n",
              "      <td>84.195961</td>\n",
              "      <td>85.211998</td>\n",
              "      <td>85.24514</td>\n",
              "      <td>86.101669</td>\n",
              "      <td>85.51194</td>\n",
              "      <td>85.320152</td>\n",
              "      <td>NaN</td>\n",
              "      <td>NaN</td>\n",
              "      <td>NaN</td>\n",
              "      <td>NaN</td>\n",
              "      <td>NaN</td>\n",
              "      <td>NaN</td>\n",
              "      <td>NaN</td>\n",
              "      <td>NaN</td>\n",
              "      <td>NaN</td>\n",
              "      <td>NaN</td>\n",
              "      <td>NaN</td>\n",
              "      <td>NaN</td>\n",
              "      <td>NaN</td>\n",
              "      <td>NaN</td>\n",
              "      <td>NaN</td>\n",
              "      <td>NaN</td>\n",
              "      <td>NaN</td>\n",
              "      <td>NaN</td>\n",
              "      <td>NaN</td>\n",
              "      <td>NaN</td>\n",
              "      <td>NaN</td>\n",
              "    </tr>\n",
              "  </tbody>\n",
              "</table>\n",
              "</div>"
            ],
            "text/plain": [
              "  Country Name Country Code  ... 2100 Unnamed: 69\n",
              "0   Arab World          ARB  ...  NaN         NaN\n",
              "1   Arab World          ARB  ...  NaN         NaN\n",
              "2   Arab World          ARB  ...  NaN         NaN\n",
              "3   Arab World          ARB  ...  NaN         NaN\n",
              "4   Arab World          ARB  ...  NaN         NaN\n",
              "\n",
              "[5 rows x 70 columns]"
            ]
          },
          "metadata": {},
          "execution_count": 7
        }
      ]
    },
    {
      "cell_type": "markdown",
      "metadata": {
        "id": "PiVA15vmDC9U"
      },
      "source": [
        "Let's check Edstats Country Series data...."
      ]
    },
    {
      "cell_type": "markdown",
      "metadata": {
        "id": "-K80k4SMDD_1"
      },
      "source": [
        "##<b>EdStats Country Series<b>"
      ]
    },
    {
      "cell_type": "markdown",
      "metadata": {
        "id": "98zigDzoDMQU"
      },
      "source": [
        "Contains repeated data....\n",
        "\n"
      ]
    },
    {
      "cell_type": "code",
      "metadata": {
        "colab": {
          "base_uri": "https://localhost:8080/"
        },
        "id": "iZ5axdxoDPIK",
        "outputId": "05dcfe7e-1c5f-4606-87ea-349f5e37b932"
      },
      "source": [
        "Edstats_country_series_df.info()"
      ],
      "execution_count": 8,
      "outputs": [
        {
          "output_type": "stream",
          "name": "stdout",
          "text": [
            "<class 'pandas.core.frame.DataFrame'>\n",
            "RangeIndex: 613 entries, 0 to 612\n",
            "Data columns (total 4 columns):\n",
            " #   Column       Non-Null Count  Dtype  \n",
            "---  ------       --------------  -----  \n",
            " 0   CountryCode  613 non-null    object \n",
            " 1   SeriesCode   613 non-null    object \n",
            " 2   DESCRIPTION  613 non-null    object \n",
            " 3   Unnamed: 3   0 non-null      float64\n",
            "dtypes: float64(1), object(3)\n",
            "memory usage: 19.3+ KB\n"
          ]
        }
      ]
    },
    {
      "cell_type": "code",
      "metadata": {
        "colab": {
          "base_uri": "https://localhost:8080/"
        },
        "id": "R2W2GuxdDYNr",
        "outputId": "d02f7e23-261a-4ad0-d0ea-e52110eb8da2"
      },
      "source": [
        "Edstats_country_series_df.shape"
      ],
      "execution_count": 9,
      "outputs": [
        {
          "output_type": "execute_result",
          "data": {
            "text/plain": [
              "(613, 4)"
            ]
          },
          "metadata": {},
          "execution_count": 9
        }
      ]
    },
    {
      "cell_type": "code",
      "metadata": {
        "colab": {
          "base_uri": "https://localhost:8080/",
          "height": 692
        },
        "id": "acVmE0YODaYc",
        "outputId": "97be746a-ae1d-4781-baca-32cfa6709775"
      },
      "source": [
        "Edstats_country_series_df.groupby(\"SeriesCode\").first().reset_index()"
      ],
      "execution_count": 10,
      "outputs": [
        {
          "output_type": "execute_result",
          "data": {
            "text/html": [
              "<div>\n",
              "<style scoped>\n",
              "    .dataframe tbody tr th:only-of-type {\n",
              "        vertical-align: middle;\n",
              "    }\n",
              "\n",
              "    .dataframe tbody tr th {\n",
              "        vertical-align: top;\n",
              "    }\n",
              "\n",
              "    .dataframe thead th {\n",
              "        text-align: right;\n",
              "    }\n",
              "</style>\n",
              "<table border=\"1\" class=\"dataframe\">\n",
              "  <thead>\n",
              "    <tr style=\"text-align: right;\">\n",
              "      <th></th>\n",
              "      <th>SeriesCode</th>\n",
              "      <th>CountryCode</th>\n",
              "      <th>DESCRIPTION</th>\n",
              "      <th>Unnamed: 3</th>\n",
              "    </tr>\n",
              "  </thead>\n",
              "  <tbody>\n",
              "    <tr>\n",
              "      <th>0</th>\n",
              "      <td>NY.GDP.MKTP.PP.CD</td>\n",
              "      <td>AFG</td>\n",
              "      <td>Estimates are based on regression.</td>\n",
              "      <td>NaN</td>\n",
              "    </tr>\n",
              "    <tr>\n",
              "      <th>1</th>\n",
              "      <td>NY.GDP.MKTP.PP.KD</td>\n",
              "      <td>AFG</td>\n",
              "      <td>Estimates are based on regression.</td>\n",
              "      <td>NaN</td>\n",
              "    </tr>\n",
              "    <tr>\n",
              "      <th>2</th>\n",
              "      <td>NY.GDP.PCAP.CD</td>\n",
              "      <td>CYP</td>\n",
              "      <td>Data are for areas under the effective control...</td>\n",
              "      <td>NaN</td>\n",
              "    </tr>\n",
              "    <tr>\n",
              "      <th>3</th>\n",
              "      <td>NY.GDP.PCAP.KD</td>\n",
              "      <td>CYP</td>\n",
              "      <td>Data are for areas under the effective control...</td>\n",
              "      <td>NaN</td>\n",
              "    </tr>\n",
              "    <tr>\n",
              "      <th>4</th>\n",
              "      <td>NY.GDP.PCAP.PP.CD</td>\n",
              "      <td>AFG</td>\n",
              "      <td>Estimates are based on regression.</td>\n",
              "      <td>NaN</td>\n",
              "    </tr>\n",
              "    <tr>\n",
              "      <th>5</th>\n",
              "      <td>NY.GDP.PCAP.PP.KD</td>\n",
              "      <td>AFG</td>\n",
              "      <td>Estimates are based on regression.</td>\n",
              "      <td>NaN</td>\n",
              "    </tr>\n",
              "    <tr>\n",
              "      <th>6</th>\n",
              "      <td>NY.GNP.MKTP.PP.CD</td>\n",
              "      <td>AFG</td>\n",
              "      <td>Estimates are based on regression.</td>\n",
              "      <td>NaN</td>\n",
              "    </tr>\n",
              "    <tr>\n",
              "      <th>7</th>\n",
              "      <td>NY.GNP.PCAP.CD</td>\n",
              "      <td>CYP</td>\n",
              "      <td>Data are for areas under the effective control...</td>\n",
              "      <td>NaN</td>\n",
              "    </tr>\n",
              "    <tr>\n",
              "      <th>8</th>\n",
              "      <td>NY.GNP.PCAP.PP.CD</td>\n",
              "      <td>AFG</td>\n",
              "      <td>Estimates are based on regression.</td>\n",
              "      <td>NaN</td>\n",
              "    </tr>\n",
              "    <tr>\n",
              "      <th>9</th>\n",
              "      <td>SP.POP.0014.FE.IN</td>\n",
              "      <td>GEO</td>\n",
              "      <td>Derived using ratio of age group from WPP and ...</td>\n",
              "      <td>NaN</td>\n",
              "    </tr>\n",
              "    <tr>\n",
              "      <th>10</th>\n",
              "      <td>SP.POP.0014.MA.IN</td>\n",
              "      <td>GEO</td>\n",
              "      <td>Derived using ratio of age group from WPP and ...</td>\n",
              "      <td>NaN</td>\n",
              "    </tr>\n",
              "    <tr>\n",
              "      <th>11</th>\n",
              "      <td>SP.POP.0014.TO</td>\n",
              "      <td>GEO</td>\n",
              "      <td>Derived using ratio of age group from WPP and ...</td>\n",
              "      <td>NaN</td>\n",
              "    </tr>\n",
              "    <tr>\n",
              "      <th>12</th>\n",
              "      <td>SP.POP.0014.TO.ZS</td>\n",
              "      <td>AUS</td>\n",
              "      <td>Including Other Territories comprising Jervis ...</td>\n",
              "      <td>NaN</td>\n",
              "    </tr>\n",
              "    <tr>\n",
              "      <th>13</th>\n",
              "      <td>SP.POP.1564.FE.IN</td>\n",
              "      <td>GEO</td>\n",
              "      <td>Derived using ratio of age group from WPP and ...</td>\n",
              "      <td>NaN</td>\n",
              "    </tr>\n",
              "    <tr>\n",
              "      <th>14</th>\n",
              "      <td>SP.POP.1564.MA.IN</td>\n",
              "      <td>GEO</td>\n",
              "      <td>Derived using ratio of age group from WPP and ...</td>\n",
              "      <td>NaN</td>\n",
              "    </tr>\n",
              "    <tr>\n",
              "      <th>15</th>\n",
              "      <td>SP.POP.1564.TO</td>\n",
              "      <td>GEO</td>\n",
              "      <td>Derived using ratio of age group from WPP and ...</td>\n",
              "      <td>NaN</td>\n",
              "    </tr>\n",
              "    <tr>\n",
              "      <th>16</th>\n",
              "      <td>SP.POP.1564.TO.ZS</td>\n",
              "      <td>AUS</td>\n",
              "      <td>Including Other Territories comprising Jervis ...</td>\n",
              "      <td>NaN</td>\n",
              "    </tr>\n",
              "    <tr>\n",
              "      <th>17</th>\n",
              "      <td>SP.POP.GROW</td>\n",
              "      <td>ABW</td>\n",
              "      <td>Data sources: United Nations World Population ...</td>\n",
              "      <td>NaN</td>\n",
              "    </tr>\n",
              "    <tr>\n",
              "      <th>18</th>\n",
              "      <td>SP.POP.TOTL</td>\n",
              "      <td>ABW</td>\n",
              "      <td>Data sources : United Nations World Population...</td>\n",
              "      <td>NaN</td>\n",
              "    </tr>\n",
              "    <tr>\n",
              "      <th>19</th>\n",
              "      <td>SP.POP.TOTL.FE.ZS</td>\n",
              "      <td>AUS</td>\n",
              "      <td>Including Other Territories comprising Jervis ...</td>\n",
              "      <td>NaN</td>\n",
              "    </tr>\n",
              "    <tr>\n",
              "      <th>20</th>\n",
              "      <td>SP.POP.TOTL.MA.ZS</td>\n",
              "      <td>AUS</td>\n",
              "      <td>Including Other Territories comprising Jervis ...</td>\n",
              "      <td>NaN</td>\n",
              "    </tr>\n",
              "  </tbody>\n",
              "</table>\n",
              "</div>"
            ],
            "text/plain": [
              "           SeriesCode  ... Unnamed: 3\n",
              "0   NY.GDP.MKTP.PP.CD  ...        NaN\n",
              "1   NY.GDP.MKTP.PP.KD  ...        NaN\n",
              "2      NY.GDP.PCAP.CD  ...        NaN\n",
              "3      NY.GDP.PCAP.KD  ...        NaN\n",
              "4   NY.GDP.PCAP.PP.CD  ...        NaN\n",
              "5   NY.GDP.PCAP.PP.KD  ...        NaN\n",
              "6   NY.GNP.MKTP.PP.CD  ...        NaN\n",
              "7      NY.GNP.PCAP.CD  ...        NaN\n",
              "8   NY.GNP.PCAP.PP.CD  ...        NaN\n",
              "9   SP.POP.0014.FE.IN  ...        NaN\n",
              "10  SP.POP.0014.MA.IN  ...        NaN\n",
              "11     SP.POP.0014.TO  ...        NaN\n",
              "12  SP.POP.0014.TO.ZS  ...        NaN\n",
              "13  SP.POP.1564.FE.IN  ...        NaN\n",
              "14  SP.POP.1564.MA.IN  ...        NaN\n",
              "15     SP.POP.1564.TO  ...        NaN\n",
              "16  SP.POP.1564.TO.ZS  ...        NaN\n",
              "17        SP.POP.GROW  ...        NaN\n",
              "18        SP.POP.TOTL  ...        NaN\n",
              "19  SP.POP.TOTL.FE.ZS  ...        NaN\n",
              "20  SP.POP.TOTL.MA.ZS  ...        NaN\n",
              "\n",
              "[21 rows x 4 columns]"
            ]
          },
          "metadata": {},
          "execution_count": 10
        }
      ]
    },
    {
      "cell_type": "markdown",
      "metadata": {
        "id": "zgr6hQI_DeAW"
      },
      "source": [
        "In both of these datasets, Unnamed Columns were present with all null values. In this we, also analyze that column 'Country Code' and 'Series Code' were given in that Country code is similar but Series Code has some values in it. Just keep checking further to have more analysis."
      ]
    },
    {
      "cell_type": "markdown",
      "metadata": {
        "id": "QPNU3lwbIZEH"
      },
      "source": [
        "##<b>EdStats Series Data<b>"
      ]
    },
    {
      "cell_type": "markdown",
      "metadata": {
        "id": "3N675fn1IaLd"
      },
      "source": [
        "I Can see a different column named 'Topic'. Just check this column if it would contain some information related to the Indicator name."
      ]
    },
    {
      "cell_type": "code",
      "metadata": {
        "colab": {
          "base_uri": "https://localhost:8080/"
        },
        "id": "oBeIM-i4Ijph",
        "outputId": "56ba3870-828e-43b9-a50a-489663c80548"
      },
      "source": [
        "Edstats_series_df.info()"
      ],
      "execution_count": 11,
      "outputs": [
        {
          "output_type": "stream",
          "name": "stdout",
          "text": [
            "<class 'pandas.core.frame.DataFrame'>\n",
            "RangeIndex: 3665 entries, 0 to 3664\n",
            "Data columns (total 21 columns):\n",
            " #   Column                               Non-Null Count  Dtype  \n",
            "---  ------                               --------------  -----  \n",
            " 0   Series Code                          3665 non-null   object \n",
            " 1   Topic                                3665 non-null   object \n",
            " 2   Indicator Name                       3665 non-null   object \n",
            " 3   Short definition                     2156 non-null   object \n",
            " 4   Long definition                      3665 non-null   object \n",
            " 5   Unit of measure                      0 non-null      float64\n",
            " 6   Periodicity                          99 non-null     object \n",
            " 7   Base Period                          314 non-null    object \n",
            " 8   Other notes                          552 non-null    object \n",
            " 9   Aggregation method                   47 non-null     object \n",
            " 10  Limitations and exceptions           14 non-null     object \n",
            " 11  Notes from original source           0 non-null      float64\n",
            " 12  General comments                     14 non-null     object \n",
            " 13  Source                               3665 non-null   object \n",
            " 14  Statistical concept and methodology  23 non-null     object \n",
            " 15  Development relevance                3 non-null      object \n",
            " 16  Related source links                 215 non-null    object \n",
            " 17  Other web links                      0 non-null      float64\n",
            " 18  Related indicators                   0 non-null      float64\n",
            " 19  License Type                         0 non-null      float64\n",
            " 20  Unnamed: 20                          0 non-null      float64\n",
            "dtypes: float64(6), object(15)\n",
            "memory usage: 601.4+ KB\n"
          ]
        }
      ]
    },
    {
      "cell_type": "code",
      "metadata": {
        "colab": {
          "base_uri": "https://localhost:8080/"
        },
        "id": "Vca3_TXII4ji",
        "outputId": "c97ec0c5-64e1-4e02-e495-c481d05c27f0"
      },
      "source": [
        "Edstats_series_df.shape"
      ],
      "execution_count": 12,
      "outputs": [
        {
          "output_type": "execute_result",
          "data": {
            "text/plain": [
              "(3665, 21)"
            ]
          },
          "metadata": {},
          "execution_count": 12
        }
      ]
    },
    {
      "cell_type": "code",
      "metadata": {
        "colab": {
          "base_uri": "https://localhost:8080/",
          "height": 638
        },
        "id": "IxGFfoxBI-T0",
        "outputId": "1b4d4d6c-b76d-41d8-96dc-ad6358e0c08a"
      },
      "source": [
        "Edstats_series_df.head(5)"
      ],
      "execution_count": 13,
      "outputs": [
        {
          "output_type": "execute_result",
          "data": {
            "text/html": [
              "<div>\n",
              "<style scoped>\n",
              "    .dataframe tbody tr th:only-of-type {\n",
              "        vertical-align: middle;\n",
              "    }\n",
              "\n",
              "    .dataframe tbody tr th {\n",
              "        vertical-align: top;\n",
              "    }\n",
              "\n",
              "    .dataframe thead th {\n",
              "        text-align: right;\n",
              "    }\n",
              "</style>\n",
              "<table border=\"1\" class=\"dataframe\">\n",
              "  <thead>\n",
              "    <tr style=\"text-align: right;\">\n",
              "      <th></th>\n",
              "      <th>Series Code</th>\n",
              "      <th>Topic</th>\n",
              "      <th>Indicator Name</th>\n",
              "      <th>Short definition</th>\n",
              "      <th>Long definition</th>\n",
              "      <th>Unit of measure</th>\n",
              "      <th>Periodicity</th>\n",
              "      <th>Base Period</th>\n",
              "      <th>Other notes</th>\n",
              "      <th>Aggregation method</th>\n",
              "      <th>Limitations and exceptions</th>\n",
              "      <th>Notes from original source</th>\n",
              "      <th>General comments</th>\n",
              "      <th>Source</th>\n",
              "      <th>Statistical concept and methodology</th>\n",
              "      <th>Development relevance</th>\n",
              "      <th>Related source links</th>\n",
              "      <th>Other web links</th>\n",
              "      <th>Related indicators</th>\n",
              "      <th>License Type</th>\n",
              "      <th>Unnamed: 20</th>\n",
              "    </tr>\n",
              "  </thead>\n",
              "  <tbody>\n",
              "    <tr>\n",
              "      <th>0</th>\n",
              "      <td>BAR.NOED.1519.FE.ZS</td>\n",
              "      <td>Attainment</td>\n",
              "      <td>Barro-Lee: Percentage of female population age...</td>\n",
              "      <td>Percentage of female population age 15-19 with...</td>\n",
              "      <td>Percentage of female population age 15-19 with...</td>\n",
              "      <td>NaN</td>\n",
              "      <td>NaN</td>\n",
              "      <td>NaN</td>\n",
              "      <td>NaN</td>\n",
              "      <td>NaN</td>\n",
              "      <td>NaN</td>\n",
              "      <td>NaN</td>\n",
              "      <td>NaN</td>\n",
              "      <td>Robert J. Barro and Jong-Wha Lee: http://www.b...</td>\n",
              "      <td>NaN</td>\n",
              "      <td>NaN</td>\n",
              "      <td>NaN</td>\n",
              "      <td>NaN</td>\n",
              "      <td>NaN</td>\n",
              "      <td>NaN</td>\n",
              "      <td>NaN</td>\n",
              "    </tr>\n",
              "    <tr>\n",
              "      <th>1</th>\n",
              "      <td>BAR.NOED.1519.ZS</td>\n",
              "      <td>Attainment</td>\n",
              "      <td>Barro-Lee: Percentage of population age 15-19 ...</td>\n",
              "      <td>Percentage of population age 15-19 with no edu...</td>\n",
              "      <td>Percentage of population age 15-19 with no edu...</td>\n",
              "      <td>NaN</td>\n",
              "      <td>NaN</td>\n",
              "      <td>NaN</td>\n",
              "      <td>NaN</td>\n",
              "      <td>NaN</td>\n",
              "      <td>NaN</td>\n",
              "      <td>NaN</td>\n",
              "      <td>NaN</td>\n",
              "      <td>Robert J. Barro and Jong-Wha Lee: http://www.b...</td>\n",
              "      <td>NaN</td>\n",
              "      <td>NaN</td>\n",
              "      <td>NaN</td>\n",
              "      <td>NaN</td>\n",
              "      <td>NaN</td>\n",
              "      <td>NaN</td>\n",
              "      <td>NaN</td>\n",
              "    </tr>\n",
              "    <tr>\n",
              "      <th>2</th>\n",
              "      <td>BAR.NOED.15UP.FE.ZS</td>\n",
              "      <td>Attainment</td>\n",
              "      <td>Barro-Lee: Percentage of female population age...</td>\n",
              "      <td>Percentage of female population age 15+ with n...</td>\n",
              "      <td>Percentage of female population age 15+ with n...</td>\n",
              "      <td>NaN</td>\n",
              "      <td>NaN</td>\n",
              "      <td>NaN</td>\n",
              "      <td>NaN</td>\n",
              "      <td>NaN</td>\n",
              "      <td>NaN</td>\n",
              "      <td>NaN</td>\n",
              "      <td>NaN</td>\n",
              "      <td>Robert J. Barro and Jong-Wha Lee: http://www.b...</td>\n",
              "      <td>NaN</td>\n",
              "      <td>NaN</td>\n",
              "      <td>NaN</td>\n",
              "      <td>NaN</td>\n",
              "      <td>NaN</td>\n",
              "      <td>NaN</td>\n",
              "      <td>NaN</td>\n",
              "    </tr>\n",
              "    <tr>\n",
              "      <th>3</th>\n",
              "      <td>BAR.NOED.15UP.ZS</td>\n",
              "      <td>Attainment</td>\n",
              "      <td>Barro-Lee: Percentage of population age 15+ wi...</td>\n",
              "      <td>Percentage of population age 15+ with no educa...</td>\n",
              "      <td>Percentage of population age 15+ with no educa...</td>\n",
              "      <td>NaN</td>\n",
              "      <td>NaN</td>\n",
              "      <td>NaN</td>\n",
              "      <td>NaN</td>\n",
              "      <td>NaN</td>\n",
              "      <td>NaN</td>\n",
              "      <td>NaN</td>\n",
              "      <td>NaN</td>\n",
              "      <td>Robert J. Barro and Jong-Wha Lee: http://www.b...</td>\n",
              "      <td>NaN</td>\n",
              "      <td>NaN</td>\n",
              "      <td>NaN</td>\n",
              "      <td>NaN</td>\n",
              "      <td>NaN</td>\n",
              "      <td>NaN</td>\n",
              "      <td>NaN</td>\n",
              "    </tr>\n",
              "    <tr>\n",
              "      <th>4</th>\n",
              "      <td>BAR.NOED.2024.FE.ZS</td>\n",
              "      <td>Attainment</td>\n",
              "      <td>Barro-Lee: Percentage of female population age...</td>\n",
              "      <td>Percentage of female population age 20-24 with...</td>\n",
              "      <td>Percentage of female population age 20-24 with...</td>\n",
              "      <td>NaN</td>\n",
              "      <td>NaN</td>\n",
              "      <td>NaN</td>\n",
              "      <td>NaN</td>\n",
              "      <td>NaN</td>\n",
              "      <td>NaN</td>\n",
              "      <td>NaN</td>\n",
              "      <td>NaN</td>\n",
              "      <td>Robert J. Barro and Jong-Wha Lee: http://www.b...</td>\n",
              "      <td>NaN</td>\n",
              "      <td>NaN</td>\n",
              "      <td>NaN</td>\n",
              "      <td>NaN</td>\n",
              "      <td>NaN</td>\n",
              "      <td>NaN</td>\n",
              "      <td>NaN</td>\n",
              "    </tr>\n",
              "  </tbody>\n",
              "</table>\n",
              "</div>"
            ],
            "text/plain": [
              "           Series Code       Topic  ... License Type Unnamed: 20\n",
              "0  BAR.NOED.1519.FE.ZS  Attainment  ...          NaN         NaN\n",
              "1     BAR.NOED.1519.ZS  Attainment  ...          NaN         NaN\n",
              "2  BAR.NOED.15UP.FE.ZS  Attainment  ...          NaN         NaN\n",
              "3     BAR.NOED.15UP.ZS  Attainment  ...          NaN         NaN\n",
              "4  BAR.NOED.2024.FE.ZS  Attainment  ...          NaN         NaN\n",
              "\n",
              "[5 rows x 21 columns]"
            ]
          },
          "metadata": {},
          "execution_count": 13
        }
      ]
    },
    {
      "cell_type": "code",
      "metadata": {
        "colab": {
          "base_uri": "https://localhost:8080/"
        },
        "id": "DKbMoiXfJC2t",
        "outputId": "b61a04b7-75a9-475d-8403-5bc83e5d0c0f"
      },
      "source": [
        "sample_df=Edstats_series_df.groupby(['Topic']).first()\n",
        "for i in sample_df[\"Indicator Name\"]:\n",
        "  print(i)"
      ],
      "execution_count": 14,
      "outputs": [
        {
          "output_type": "stream",
          "name": "stdout",
          "text": [
            "Barro-Lee: Percentage of female population age 15-19 with no education\n",
            "Duration of compulsory education (years)\n",
            "Africa Dataset: School census return rate from primary schools\n",
            "SABER: (Early Childhood Development) Policy Goal 1: Establishing an Enabling Environment\n",
            "Enrolment in pre-primary education, both sexes (number)\n",
            "GNI per capita, Atlas method (current US$)\n",
            "GDP (constant 2010 US$)\n",
            "GDP (current US$)\n",
            "GDP, PPP (current international $)\n",
            "DHS: Gross attendance rate. Post Secondary\n",
            "SABER: (Education Management Information Systems) Policy Goal 1: Enabling Environment\n",
            "SABER: (Engaging the Private Sector, Government funded) Policy Goal 5: Encouraging innovation by providers\n",
            "Current expenditure as % of total expenditure in public institutions (%)\n",
            "Mortality rate, under-5 (per 1,000 live births)\n",
            "Population growth (annual %)\n",
            "Population ages 0-14, female\n",
            "Prevalence of HIV, total (% of population ages 15-49)\n",
            "Personal computers (per 100 people)\n",
            "Share of youth not in education, employment or training, female (% of female youth population)\n",
            "EGRA: Correct Letter Names Read Per Minute (Mean). Afan Oromo. 2nd Grade\n",
            "Youth literacy rate, population 15-24 years, female (%)\n",
            "Population, ages 3-5, female\n",
            "Enrolment in post-secondary non-tertiary education, private institutions, both sexes (number)\n",
            "Gross enrolment ratio, pre-primary, both sexes (%)\n",
            "Gross enrolment ratio, primary, gender parity index (GPI)\n",
            "SABER: (School Autonomy and Accountability) Policy Goal 1: Level of autonomy in the planning and management of school budget\n",
            "SABER: (School Finance) Policy Goal 1: Ensuring basic conditions for learning\n",
            "SABER: (School Health and School Feeding) Policy Goal 1: Policy Frameworks\n",
            "Gross enrolment ratio, primary and secondary, gender parity index (GPI)\n",
            "Labor force with advanced education, female (% of female working-age population with advanced education)\n",
            "Unemployment, female (% of female labor force) (modeled ILO estimate)\n",
            "SABER: (Student Assessment) Policy Goal 1: Classroom Assessment\n",
            "Annual statutory teacher salaries in public institutions in USD. Pre-Primary. Starting salary\n",
            "SABER: (Teachers) Policy Goal 1: Setting clear expectations for teachers\n",
            "Gross enrolment ratio, tertiary, gender parity index (GPI)\n",
            "SABER: (Tertiary Education) Policy Goal 1: Vision for Tertiary Education\n",
            "SABER: (Workforce Development) Policy Goal 1: Strategic Framework\n"
          ]
        }
      ]
    },
    {
      "cell_type": "markdown",
      "metadata": {
        "id": "ZaImbuAf_ZHI"
      },
      "source": [
        "## <b>Edstats Country "
      ]
    },
    {
      "cell_type": "code",
      "metadata": {
        "colab": {
          "base_uri": "https://localhost:8080/"
        },
        "id": "5KLNGTSu_dSk",
        "outputId": "86efb144-0e9f-4f0e-877c-67009ba18d52"
      },
      "source": [
        "Edstats_country_df.info()"
      ],
      "execution_count": 15,
      "outputs": [
        {
          "output_type": "stream",
          "name": "stdout",
          "text": [
            "<class 'pandas.core.frame.DataFrame'>\n",
            "RangeIndex: 241 entries, 0 to 240\n",
            "Data columns (total 32 columns):\n",
            " #   Column                                             Non-Null Count  Dtype  \n",
            "---  ------                                             --------------  -----  \n",
            " 0   Country Code                                       241 non-null    object \n",
            " 1   Short Name                                         241 non-null    object \n",
            " 2   Table Name                                         241 non-null    object \n",
            " 3   Long Name                                          241 non-null    object \n",
            " 4   2-alpha code                                       238 non-null    object \n",
            " 5   Currency Unit                                      215 non-null    object \n",
            " 6   Special Notes                                      145 non-null    object \n",
            " 7   Region                                             214 non-null    object \n",
            " 8   Income Group                                       214 non-null    object \n",
            " 9   WB-2 code                                          240 non-null    object \n",
            " 10  National accounts base year                        205 non-null    object \n",
            " 11  National accounts reference year                   32 non-null     float64\n",
            " 12  SNA price valuation                                197 non-null    object \n",
            " 13  Lending category                                   144 non-null    object \n",
            " 14  Other groups                                       58 non-null     object \n",
            " 15  System of National Accounts                        215 non-null    object \n",
            " 16  Alternative conversion factor                      47 non-null     object \n",
            " 17  PPP survey year                                    145 non-null    object \n",
            " 18  Balance of Payments Manual in use                  181 non-null    object \n",
            " 19  External debt Reporting status                     124 non-null    object \n",
            " 20  System of trade                                    200 non-null    object \n",
            " 21  Government Accounting concept                      161 non-null    object \n",
            " 22  IMF data dissemination standard                    181 non-null    object \n",
            " 23  Latest population census                           213 non-null    object \n",
            " 24  Latest household survey                            141 non-null    object \n",
            " 25  Source of most recent Income and expenditure data  160 non-null    object \n",
            " 26  Vital registration complete                        111 non-null    object \n",
            " 27  Latest agricultural census                         142 non-null    object \n",
            " 28  Latest industrial data                             107 non-null    float64\n",
            " 29  Latest trade data                                  185 non-null    float64\n",
            " 30  Latest water withdrawal data                       179 non-null    object \n",
            " 31  Unnamed: 31                                        0 non-null      float64\n",
            "dtypes: float64(4), object(28)\n",
            "memory usage: 60.4+ KB\n"
          ]
        }
      ]
    },
    {
      "cell_type": "code",
      "metadata": {
        "colab": {
          "base_uri": "https://localhost:8080/"
        },
        "id": "QuZeXjP6_wec",
        "outputId": "8623bffe-c10b-409e-ee23-504db458a56f"
      },
      "source": [
        "Edstats_country_df.shape"
      ],
      "execution_count": 16,
      "outputs": [
        {
          "output_type": "execute_result",
          "data": {
            "text/plain": [
              "(241, 32)"
            ]
          },
          "metadata": {},
          "execution_count": 16
        }
      ]
    },
    {
      "cell_type": "markdown",
      "metadata": {
        "id": "tT6rANsN_1I9"
      },
      "source": [
        "In this dataset, we have many different columns name. Just explore some of them to know whether they are related to data or not."
      ]
    },
    {
      "cell_type": "code",
      "metadata": {
        "colab": {
          "base_uri": "https://localhost:8080/"
        },
        "id": "V4WTsaVz_2TV",
        "outputId": "00ee37e6-5a1f-4c03-f1d4-47518796503f"
      },
      "source": [
        "#first one\n",
        "Edstats_country_df['Balance of Payments Manual in use']"
      ],
      "execution_count": 17,
      "outputs": [
        {
          "output_type": "execute_result",
          "data": {
            "text/plain": [
              "0      IMF Balance of Payments Manual, 6th edition.\n",
              "1                                               NaN\n",
              "2      IMF Balance of Payments Manual, 6th edition.\n",
              "3      IMF Balance of Payments Manual, 6th edition.\n",
              "4                                               NaN\n",
              "                           ...                     \n",
              "236                                             NaN\n",
              "237    IMF Balance of Payments Manual, 6th edition.\n",
              "238    IMF Balance of Payments Manual, 6th edition.\n",
              "239    IMF Balance of Payments Manual, 6th edition.\n",
              "240    IMF Balance of Payments Manual, 6th edition.\n",
              "Name: Balance of Payments Manual in use, Length: 241, dtype: object"
            ]
          },
          "metadata": {},
          "execution_count": 17
        }
      ]
    },
    {
      "cell_type": "code",
      "metadata": {
        "colab": {
          "base_uri": "https://localhost:8080/"
        },
        "id": "K7TOw_0h_7M3",
        "outputId": "6e79d122-9856-4038-9f31-146b4fbf4eac"
      },
      "source": [
        "# second\n",
        "Edstats_country_df['External debt Reporting status']"
      ],
      "execution_count": 18,
      "outputs": [
        {
          "output_type": "execute_result",
          "data": {
            "text/plain": [
              "0              NaN\n",
              "1           Actual\n",
              "2           Actual\n",
              "3           Actual\n",
              "4              NaN\n",
              "          ...     \n",
              "236         Actual\n",
              "237         Actual\n",
              "238    Preliminary\n",
              "239         Actual\n",
              "240         Actual\n",
              "Name: External debt Reporting status, Length: 241, dtype: object"
            ]
          },
          "metadata": {},
          "execution_count": 18
        }
      ]
    },
    {
      "cell_type": "markdown",
      "metadata": {
        "id": "sqTxxkZSAEr8"
      },
      "source": [
        "They are not seems to be much that related.....  "
      ]
    },
    {
      "cell_type": "markdown",
      "metadata": {
        "id": "u1-ey5jYAFjV"
      },
      "source": [
        "##<b> EdStats FootNotes"
      ]
    },
    {
      "cell_type": "code",
      "metadata": {
        "colab": {
          "base_uri": "https://localhost:8080/"
        },
        "id": "JgPvW_hNAKeG",
        "outputId": "93edbcce-0940-4fd2-cbdc-01e60069b90e"
      },
      "source": [
        "Edstats_footnotes_df.info()"
      ],
      "execution_count": 19,
      "outputs": [
        {
          "output_type": "stream",
          "name": "stdout",
          "text": [
            "<class 'pandas.core.frame.DataFrame'>\n",
            "RangeIndex: 643638 entries, 0 to 643637\n",
            "Data columns (total 5 columns):\n",
            " #   Column       Non-Null Count   Dtype  \n",
            "---  ------       --------------   -----  \n",
            " 0   CountryCode  643638 non-null  object \n",
            " 1   SeriesCode   643638 non-null  object \n",
            " 2   Year         643638 non-null  object \n",
            " 3   DESCRIPTION  643638 non-null  object \n",
            " 4   Unnamed: 4   0 non-null       float64\n",
            "dtypes: float64(1), object(4)\n",
            "memory usage: 24.6+ MB\n"
          ]
        }
      ]
    },
    {
      "cell_type": "code",
      "metadata": {
        "colab": {
          "base_uri": "https://localhost:8080/"
        },
        "id": "QbGfN4rtAQBl",
        "outputId": "75482d6b-3baa-44e8-e181-3794d89d4afb"
      },
      "source": [
        "Edstats_footnotes_df.shape"
      ],
      "execution_count": 20,
      "outputs": [
        {
          "output_type": "execute_result",
          "data": {
            "text/plain": [
              "(643638, 5)"
            ]
          },
          "metadata": {},
          "execution_count": 20
        }
      ]
    },
    {
      "cell_type": "code",
      "metadata": {
        "colab": {
          "base_uri": "https://localhost:8080/",
          "height": 202
        },
        "id": "EUXI88gbAS4F",
        "outputId": "98da43c9-6d12-49cd-9de1-805476d7c5a1"
      },
      "source": [
        "Edstats_footnotes_df.head()"
      ],
      "execution_count": 21,
      "outputs": [
        {
          "output_type": "execute_result",
          "data": {
            "text/html": [
              "<div>\n",
              "<style scoped>\n",
              "    .dataframe tbody tr th:only-of-type {\n",
              "        vertical-align: middle;\n",
              "    }\n",
              "\n",
              "    .dataframe tbody tr th {\n",
              "        vertical-align: top;\n",
              "    }\n",
              "\n",
              "    .dataframe thead th {\n",
              "        text-align: right;\n",
              "    }\n",
              "</style>\n",
              "<table border=\"1\" class=\"dataframe\">\n",
              "  <thead>\n",
              "    <tr style=\"text-align: right;\">\n",
              "      <th></th>\n",
              "      <th>CountryCode</th>\n",
              "      <th>SeriesCode</th>\n",
              "      <th>Year</th>\n",
              "      <th>DESCRIPTION</th>\n",
              "      <th>Unnamed: 4</th>\n",
              "    </tr>\n",
              "  </thead>\n",
              "  <tbody>\n",
              "    <tr>\n",
              "      <th>0</th>\n",
              "      <td>ABW</td>\n",
              "      <td>SE.PRE.ENRL.FE</td>\n",
              "      <td>YR2001</td>\n",
              "      <td>Country estimation.</td>\n",
              "      <td>NaN</td>\n",
              "    </tr>\n",
              "    <tr>\n",
              "      <th>1</th>\n",
              "      <td>ABW</td>\n",
              "      <td>SE.TER.TCHR.FE</td>\n",
              "      <td>YR2005</td>\n",
              "      <td>Country estimation.</td>\n",
              "      <td>NaN</td>\n",
              "    </tr>\n",
              "    <tr>\n",
              "      <th>2</th>\n",
              "      <td>ABW</td>\n",
              "      <td>SE.PRE.TCHR.FE</td>\n",
              "      <td>YR2000</td>\n",
              "      <td>Country estimation.</td>\n",
              "      <td>NaN</td>\n",
              "    </tr>\n",
              "    <tr>\n",
              "      <th>3</th>\n",
              "      <td>ABW</td>\n",
              "      <td>SE.SEC.ENRL.GC</td>\n",
              "      <td>YR2004</td>\n",
              "      <td>Country estimation.</td>\n",
              "      <td>NaN</td>\n",
              "    </tr>\n",
              "    <tr>\n",
              "      <th>4</th>\n",
              "      <td>ABW</td>\n",
              "      <td>SE.PRE.TCHR</td>\n",
              "      <td>YR2006</td>\n",
              "      <td>Country estimation.</td>\n",
              "      <td>NaN</td>\n",
              "    </tr>\n",
              "  </tbody>\n",
              "</table>\n",
              "</div>"
            ],
            "text/plain": [
              "  CountryCode      SeriesCode    Year          DESCRIPTION  Unnamed: 4\n",
              "0         ABW  SE.PRE.ENRL.FE  YR2001  Country estimation.         NaN\n",
              "1         ABW  SE.TER.TCHR.FE  YR2005  Country estimation.         NaN\n",
              "2         ABW  SE.PRE.TCHR.FE  YR2000  Country estimation.         NaN\n",
              "3         ABW  SE.SEC.ENRL.GC  YR2004  Country estimation.         NaN\n",
              "4         ABW     SE.PRE.TCHR  YR2006  Country estimation.         NaN"
            ]
          },
          "metadata": {},
          "execution_count": 21
        }
      ]
    },
    {
      "cell_type": "markdown",
      "metadata": {
        "id": "Qv6pgwBxAWe2"
      },
      "source": [
        "we have analyzed all the datasets and seems that all have Unnamed columns name and many null values columns which need to be drop out to have more clearance on the data..."
      ]
    },
    {
      "cell_type": "markdown",
      "metadata": {
        "id": "5hg7h1U4Aaq3"
      },
      "source": [
        "## <b> Dropping unnamed and null columns<b>"
      ]
    },
    {
      "cell_type": "markdown",
      "metadata": {
        "id": "Gw2qzqyWAbj0"
      },
      "source": [
        "We have to drop all the unnamed and null values to clear out the datasets."
      ]
    },
    {
      "cell_type": "code",
      "metadata": {
        "id": "eP0hskm5AeCa"
      },
      "source": [
        "Edstats_data_df.drop(['Unnamed: 69'],axis=1,inplace=True)\n",
        "Edstats_country_series_df.drop(['Unnamed: 3'],axis=1,inplace=True)\n",
        "Edstats_series_df.drop(['Unnamed: 20','License Type','Related indicators','Other web links'],axis=1,inplace=True)\n",
        "Edstats_country_df.drop(['Unnamed: 31'],axis=1,inplace=True)\n",
        "Edstats_footnotes_df.drop(['Unnamed: 4'],axis=1,inplace=True) "
      ],
      "execution_count": 22,
      "outputs": []
    },
    {
      "cell_type": "markdown",
      "metadata": {
        "id": "vTURMQf7AiQT"
      },
      "source": [
        "## Now lets chk which country has maximum data and related to whichn year all and over just extract the main data in which we have to work"
      ]
    },
    {
      "cell_type": "code",
      "metadata": {
        "colab": {
          "base_uri": "https://localhost:8080/",
          "height": 636
        },
        "id": "vuPmCEwFAlBS",
        "outputId": "f9340e0a-0451-4b2a-a583-5001479df340"
      },
      "source": [
        "# plotting the graph to know the result\n",
        "dataset1 = Edstats_data_df.loc[:,'1977':'2100'].notnull().sum()/len(Edstats_data_df)*100\n",
        "plt.figure(figsize=(20,10))\n",
        "plt.subplot()\n",
        "dataset1.plot(kind='bar', color='blue')\n",
        "plt.title('overall percentage of Data')\n",
        "plt.xlabel('Years')\n",
        "plt.ylabel('Percentage of Data Present')\n",
        "plt.show()"
      ],
      "execution_count": 23,
      "outputs": [
        {
          "output_type": "display_data",
          "data": {
            "image/png": "[encoded data removed]",
            "text/plain": [
              "<Figure size 1440x720 with 1 Axes>"
            ]
          },
          "metadata": {
            "needs_background": "light"
          }
        }
      ]
    },
    {
      "cell_type": "markdown",
      "metadata": {
        "id": "12fVIlsMAs-m"
      },
      "source": [
        "#### We notice that mostly data are present in between 1990 to 2014. So as moving forward, fetching all the columns between 1990 to 2014 for further analyses.\n"
      ]
    },
    {
      "cell_type": "code",
      "metadata": {
        "id": "oHgJYgUcAwSm"
      },
      "source": [
        "Cols = list(Edstats_data_df.columns)"
      ],
      "execution_count": 24,
      "outputs": []
    },
    {
      "cell_type": "code",
      "metadata": {
        "colab": {
          "base_uri": "https://localhost:8080/"
        },
        "id": "-lPqhOErAzA-",
        "outputId": "6934a104-58d5-4151-839f-a1a20d5f9db9"
      },
      "source": [
        "#Figuring out the number of years\n",
        "for i in range(len(Cols)):\n",
        "  if i >33 and i<50:\n",
        "    print(Cols[i])"
      ],
      "execution_count": 25,
      "outputs": [
        {
          "output_type": "stream",
          "name": "stdout",
          "text": [
            "2000\n",
            "2001\n",
            "2002\n",
            "2003\n",
            "2004\n",
            "2005\n",
            "2006\n",
            "2007\n",
            "2008\n",
            "2009\n",
            "2010\n",
            "2011\n",
            "2012\n",
            "2013\n",
            "2014\n",
            "2015\n"
          ]
        }
      ]
    },
    {
      "cell_type": "markdown",
      "metadata": {
        "id": "u45XhgEsA67V"
      },
      "source": [
        "Now, we have the years in which most data were present.\n",
        "\n",
        "Well after this, try to analysis of all the indicators specifically for one country."
      ]
    }
  ]
}