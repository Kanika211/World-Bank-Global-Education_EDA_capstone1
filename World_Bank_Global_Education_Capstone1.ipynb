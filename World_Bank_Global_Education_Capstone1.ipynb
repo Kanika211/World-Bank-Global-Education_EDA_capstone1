{
  "nbformat": 4,
  "nbformat_minor": 0,
  "metadata": {
    "colab": {
      "name": "World Bank Global Education_Capstone1.ipynb",
      "provenance": [],
      "authorship_tag": "ABX9TyOBZMVGjN+Z3OGG6tKH/tcB",
      "include_colab_link": true
    },
    "kernelspec": {
      "name": "python3",
      "display_name": "Python 3"
    },
    "language_info": {
      "name": "python"
    }
  },
  "cells": [
    {
      "cell_type": "markdown",
      "metadata": {
        "id": "view-in-github",
        "colab_type": "text"
      },
      "source": [
        "<a href=\"https://colab.research.google.com/github/Kanika211/World-Bank-Global-Education_EDA_capstone1/blob/main/World_Bank_Global_Education_Capstone1.ipynb\" target=\"_parent\"><img src=\"https://colab.research.google.com/assets/colab-badge.svg\" alt=\"Open In Colab\"/></a>"
      ]
    },
    {
      "cell_type": "markdown",
      "metadata": {
        "id": "pYJyl_9vAuJt"
      },
      "source": [
        "##**</u>World Bank Global Education Group**</u>"
      ]
    },
    {
      "cell_type": "markdown",
      "metadata": {
        "id": "-vSjCtIJA2gu"
      },
      "source": [
        "#### The world bank global group is the largest financier of education. It's main strategy is focused on <b>\"learning for all\".<b>"
      ]
    },
    {
      "cell_type": "markdown",
      "metadata": {
        "id": "AUUjxQB2A7hV"
      },
      "source": [
        "##### Now talk's about what world bank does and how it works for Education...."
      ]
    },
    {
      "cell_type": "markdown",
      "metadata": {
        "id": "ni5lptBhA-1f"
      },
      "source": [
        "## <b>What is World Bank?<b>"
      ]
    },
    {
      "cell_type": "markdown",
      "metadata": {
        "id": "cQcdsWqzBB6H"
      },
      "source": [
        "* The World Bank is an international organization dedicated to providing financing, advice, and research to developing nations to aid their economic advancement. The bank predominantly acts as an organization that attempts to fight poverty by offering developmental assistance to middle- and low-income countries."
      ]
    },
    {
      "cell_type": "markdown",
      "metadata": {
        "id": "W9rJA_dFBFcl"
      },
      "source": [
        "##  <b>What is the purpose of Global Education?</b>\n",
        "\n",
        "\n",
        "The main purpose is opening a global dimension and a holistic perspective in education in order to help and understand the complex realities, develope values, knowledge and skills that enable them to face the challenges.\n"
      ]
    },
    {
      "cell_type": "markdown",
      "metadata": {
        "id": "XXE6_isqBai1"
      },
      "source": [
        "### Let's take a look at the problem statement"
      ]
    },
    {
      "cell_type": "markdown",
      "metadata": {
        "id": "YU8vptw7BkbM"
      },
      "source": [
        "### <b>The World Bank EdStats All Indicator Query holds over 4,000 internationally comparable indicators that describe education access, progression, completion, literacy, teachers, population, and expenditures.The indicators cover the education cycle from pre-primary to vocational and tertiary education and also holds learning outcome data from international and regional learning assessments (e.g. PISA, TIMSS, PIRLS), equity data from household surveys, and projection/attainment data.<b>\n",
        "Explore and analyze the data to identify variation of indicators across the globe, which countries are more alike and different. Feel free to add more extensive analyses and details."
      ]
    },
    {
      "cell_type": "markdown",
      "metadata": {
        "id": "_WVGUxXWBpvN"
      },
      "source": [
        "let's get into this and filtering out the ideas...\n",
        "\n",
        "<b>First to import all the libraries<b>"
      ]
    },
    {
      "cell_type": "code",
      "metadata": {
        "id": "3wNycfhdB3Y9"
      },
      "source": [
        "from collections import Counter\n",
        "import numpy as np\n",
        "import pandas as pd\n",
        "import matplotlib.pyplot as plt\n",
        "import seaborn as sns"
      ],
      "execution_count": 1,
      "outputs": []
    },
    {
      "cell_type": "markdown",
      "metadata": {
        "id": "hGYpElPuB8H_"
      },
      "source": [
        "##### Let's Mount the Drive and analyse the data..."
      ]
    },
    {
      "cell_type": "code",
      "metadata": {
        "colab": {
          "base_uri": "https://localhost:8080/"
        },
        "id": "Nu4le6jgB9Ze",
        "outputId": "64df0be2-ea51-41c1-b953-d42f2d3aacc7"
      },
      "source": [
        "from google.colab import drive\n",
        "drive.mount('/content/drive')"
      ],
      "execution_count": 2,
      "outputs": [
        {
          "output_type": "stream",
          "name": "stdout",
          "text": [
            "Mounted at /content/drive\n"
          ]
        }
      ]
    },
    {
      "cell_type": "markdown",
      "metadata": {
        "id": "ATT8-FCeCLhE"
      },
      "source": [
        "######Now First, try to evaluate all the Datasets and, it's relevance with the problem..."
      ]
    },
    {
      "cell_type": "code",
      "metadata": {
        "id": "DS1DV8AuCS9b"
      },
      "source": [
        "working_path = '/content/drive/MyDrive/Colab Notebooks'"
      ],
      "execution_count": 3,
      "outputs": []
    },
    {
      "cell_type": "markdown",
      "metadata": {
        "id": "PaxjHfkwCWoM"
      },
      "source": [
        "Working path of all the datasets.."
      ]
    },
    {
      "cell_type": "code",
      "metadata": {
        "id": "aT9gH0FTCXTE"
      },
      "source": [
        "Edstats_country_df = pd.read_csv('/content/drive/MyDrive/Colab Notebooks/EdStatsCountry.csv')\n",
        "Edstats_country_series_df = pd.read_csv('/content/drive/MyDrive/Colab Notebooks/EdStatsCountry-Series.csv')\n",
        "Edstats_data_df = pd.read_csv('/content/drive/MyDrive/Colab Notebooks/EdStatsData.csv')\n",
        "Edstats_footnotes_df = pd.read_csv('/content/drive/MyDrive/Colab Notebooks/EdStatsFootNote.csv')\n",
        "Edstats_series_df = pd.read_csv('/content/drive/MyDrive/Colab Notebooks/EdStatsSeries.csv')"
      ],
      "execution_count": 4,
      "outputs": []
    },
    {
      "cell_type": "markdown",
      "metadata": {
        "id": "67tjB1Q8CgNz"
      },
      "source": [
        "##<b>EdStats Data"
      ]
    },
    {
      "cell_type": "markdown",
      "metadata": {
        "id": "QuPOab0aCksE"
      },
      "source": [
        "Well, that's almost a million records. So, here we can see quite a lot of them are NaN, and some are years that exceed even 2020. So from here, we can assume that those years are nothing but predictions.\n",
        "We will now account for those years that have passed the limit of 1999 and ignore the predictions as they might affect our analyses."
      ]
    },
    {
      "cell_type": "code",
      "metadata": {
        "colab": {
          "base_uri": "https://localhost:8080/"
        },
        "id": "v-CnoYNCCpPT",
        "outputId": "4ee5faf8-961a-4587-e585-25ec8961748c"
      },
      "source": [
        "Edstats_data_df.info()"
      ],
      "execution_count": 5,
      "outputs": [
        {
          "output_type": "stream",
          "name": "stdout",
          "text": [
            "<class 'pandas.core.frame.DataFrame'>\n",
            "RangeIndex: 886930 entries, 0 to 886929\n",
            "Data columns (total 70 columns):\n",
            " #   Column          Non-Null Count   Dtype  \n",
            "---  ------          --------------   -----  \n",
            " 0   Country Name    886930 non-null  object \n",
            " 1   Country Code    886930 non-null  object \n",
            " 2   Indicator Name  886930 non-null  object \n",
            " 3   Indicator Code  886930 non-null  object \n",
            " 4   1970            72288 non-null   float64\n",
            " 5   1971            35537 non-null   float64\n",
            " 6   1972            35619 non-null   float64\n",
            " 7   1973            35545 non-null   float64\n",
            " 8   1974            35730 non-null   float64\n",
            " 9   1975            87306 non-null   float64\n",
            " 10  1976            37483 non-null   float64\n",
            " 11  1977            37574 non-null   float64\n",
            " 12  1978            37576 non-null   float64\n",
            " 13  1979            36809 non-null   float64\n",
            " 14  1980            89122 non-null   float64\n",
            " 15  1981            38777 non-null   float64\n",
            " 16  1982            37511 non-null   float64\n",
            " 17  1983            38460 non-null   float64\n",
            " 18  1984            38606 non-null   float64\n",
            " 19  1985            90296 non-null   float64\n",
            " 20  1986            39372 non-null   float64\n",
            " 21  1987            38641 non-null   float64\n",
            " 22  1988            38552 non-null   float64\n",
            " 23  1989            37540 non-null   float64\n",
            " 24  1990            124405 non-null  float64\n",
            " 25  1991            74437 non-null   float64\n",
            " 26  1992            75543 non-null   float64\n",
            " 27  1993            75793 non-null   float64\n",
            " 28  1994            77462 non-null   float64\n",
            " 29  1995            131361 non-null  float64\n",
            " 30  1996            76807 non-null   float64\n",
            " 31  1997            73453 non-null   float64\n",
            " 32  1998            84914 non-null   float64\n",
            " 33  1999            118839 non-null  float64\n",
            " 34  2000            176676 non-null  float64\n",
            " 35  2001            123509 non-null  float64\n",
            " 36  2002            124205 non-null  float64\n",
            " 37  2003            130363 non-null  float64\n",
            " 38  2004            128814 non-null  float64\n",
            " 39  2005            184108 non-null  float64\n",
            " 40  2006            140312 non-null  float64\n",
            " 41  2007            137272 non-null  float64\n",
            " 42  2008            134387 non-null  float64\n",
            " 43  2009            142108 non-null  float64\n",
            " 44  2010            242442 non-null  float64\n",
            " 45  2011            146012 non-null  float64\n",
            " 46  2012            147264 non-null  float64\n",
            " 47  2013            137509 non-null  float64\n",
            " 48  2014            113789 non-null  float64\n",
            " 49  2015            131058 non-null  float64\n",
            " 50  2016            16460 non-null   float64\n",
            " 51  2017            143 non-null     float64\n",
            " 52  2020            51436 non-null   float64\n",
            " 53  2025            51436 non-null   float64\n",
            " 54  2030            51436 non-null   float64\n",
            " 55  2035            51436 non-null   float64\n",
            " 56  2040            51436 non-null   float64\n",
            " 57  2045            51436 non-null   float64\n",
            " 58  2050            51436 non-null   float64\n",
            " 59  2055            51436 non-null   float64\n",
            " 60  2060            51436 non-null   float64\n",
            " 61  2065            51436 non-null   float64\n",
            " 62  2070            51436 non-null   float64\n",
            " 63  2075            51436 non-null   float64\n",
            " 64  2080            51436 non-null   float64\n",
            " 65  2085            51436 non-null   float64\n",
            " 66  2090            51436 non-null   float64\n",
            " 67  2095            51436 non-null   float64\n",
            " 68  2100            51436 non-null   float64\n",
            " 69  Unnamed: 69     0 non-null       float64\n",
            "dtypes: float64(66), object(4)\n",
            "memory usage: 473.7+ MB\n"
          ]
        }
      ]
    },
    {
      "cell_type": "code",
      "metadata": {
        "colab": {
          "base_uri": "https://localhost:8080/"
        },
        "id": "nwKIGv-QCt_j",
        "outputId": "14e4efb3-4bdd-45bf-b9b8-3f9133bb87d5"
      },
      "source": [
        "Edstats_data_df.shape"
      ],
      "execution_count": 6,
      "outputs": [
        {
          "output_type": "execute_result",
          "data": {
            "text/plain": [
              "(886930, 70)"
            ]
          },
          "metadata": {},
          "execution_count": 6
        }
      ]
    },
    {
      "cell_type": "code",
      "metadata": {
        "colab": {
          "base_uri": "https://localhost:8080/",
          "height": 655
        },
        "id": "LHIMv1bYCzak",
        "outputId": "5aafd5df-0ecc-4af9-e2b4-9d567d9ac3d0"
      },
      "source": [
        "Edstats_data_df.head()"
      ],
      "execution_count": 7,
      "outputs": [
        {
          "output_type": "execute_result",
          "data": {
            "text/html": [
              "<div>\n",
              "<style scoped>\n",
              "    .dataframe tbody tr th:only-of-type {\n",
              "        vertical-align: middle;\n",
              "    }\n",
              "\n",
              "    .dataframe tbody tr th {\n",
              "        vertical-align: top;\n",
              "    }\n",
              "\n",
              "    .dataframe thead th {\n",
              "        text-align: right;\n",
              "    }\n",
              "</style>\n",
              "<table border=\"1\" class=\"dataframe\">\n",
              "  <thead>\n",
              "    <tr style=\"text-align: right;\">\n",
              "      <th></th>\n",
              "      <th>Country Name</th>\n",
              "      <th>Country Code</th>\n",
              "      <th>Indicator Name</th>\n",
              "      <th>Indicator Code</th>\n",
              "      <th>1970</th>\n",
              "      <th>1971</th>\n",
              "      <th>1972</th>\n",
              "      <th>1973</th>\n",
              "      <th>1974</th>\n",
              "      <th>1975</th>\n",
              "      <th>1976</th>\n",
              "      <th>1977</th>\n",
              "      <th>1978</th>\n",
              "      <th>1979</th>\n",
              "      <th>1980</th>\n",
              "      <th>1981</th>\n",
              "      <th>1982</th>\n",
              "      <th>1983</th>\n",
              "      <th>1984</th>\n",
              "      <th>1985</th>\n",
              "      <th>1986</th>\n",
              "      <th>1987</th>\n",
              "      <th>1988</th>\n",
              "      <th>1989</th>\n",
              "      <th>1990</th>\n",
              "      <th>1991</th>\n",
              "      <th>1992</th>\n",
              "      <th>1993</th>\n",
              "      <th>1994</th>\n",
              "      <th>1995</th>\n",
              "      <th>1996</th>\n",
              "      <th>1997</th>\n",
              "      <th>1998</th>\n",
              "      <th>1999</th>\n",
              "      <th>2000</th>\n",
              "      <th>2001</th>\n",
              "      <th>2002</th>\n",
              "      <th>2003</th>\n",
              "      <th>2004</th>\n",
              "      <th>2005</th>\n",
              "      <th>2006</th>\n",
              "      <th>2007</th>\n",
              "      <th>2008</th>\n",
              "      <th>2009</th>\n",
              "      <th>2010</th>\n",
              "      <th>2011</th>\n",
              "      <th>2012</th>\n",
              "      <th>2013</th>\n",
              "      <th>2014</th>\n",
              "      <th>2015</th>\n",
              "      <th>2016</th>\n",
              "      <th>2017</th>\n",
              "      <th>2020</th>\n",
              "      <th>2025</th>\n",
              "      <th>2030</th>\n",
              "      <th>2035</th>\n",
              "      <th>2040</th>\n",
              "      <th>2045</th>\n",
              "      <th>2050</th>\n",
              "      <th>2055</th>\n",
              "      <th>2060</th>\n",
              "      <th>2065</th>\n",
              "      <th>2070</th>\n",
              "      <th>2075</th>\n",
              "      <th>2080</th>\n",
              "      <th>2085</th>\n",
              "      <th>2090</th>\n",
              "      <th>2095</th>\n",
              "      <th>2100</th>\n",
              "      <th>Unnamed: 69</th>\n",
              "    </tr>\n",
              "  </thead>\n",
              "  <tbody>\n",
              "    <tr>\n",
              "      <th>0</th>\n",
              "      <td>Arab World</td>\n",
              "      <td>ARB</td>\n",
              "      <td>Adjusted net enrolment rate, lower secondary, ...</td>\n",
              "      <td>UIS.NERA.2</td>\n",
              "      <td>NaN</td>\n",
              "      <td>NaN</td>\n",
              "      <td>NaN</td>\n",
              "      <td>NaN</td>\n",
              "      <td>NaN</td>\n",
              "      <td>NaN</td>\n",
              "      <td>NaN</td>\n",
              "      <td>NaN</td>\n",
              "      <td>NaN</td>\n",
              "      <td>NaN</td>\n",
              "      <td>NaN</td>\n",
              "      <td>NaN</td>\n",
              "      <td>NaN</td>\n",
              "      <td>NaN</td>\n",
              "      <td>NaN</td>\n",
              "      <td>NaN</td>\n",
              "      <td>NaN</td>\n",
              "      <td>NaN</td>\n",
              "      <td>NaN</td>\n",
              "      <td>NaN</td>\n",
              "      <td>NaN</td>\n",
              "      <td>NaN</td>\n",
              "      <td>NaN</td>\n",
              "      <td>NaN</td>\n",
              "      <td>NaN</td>\n",
              "      <td>NaN</td>\n",
              "      <td>NaN</td>\n",
              "      <td>NaN</td>\n",
              "      <td>NaN</td>\n",
              "      <td>NaN</td>\n",
              "      <td>NaN</td>\n",
              "      <td>NaN</td>\n",
              "      <td>NaN</td>\n",
              "      <td>NaN</td>\n",
              "      <td>NaN</td>\n",
              "      <td>NaN</td>\n",
              "      <td>NaN</td>\n",
              "      <td>NaN</td>\n",
              "      <td>NaN</td>\n",
              "      <td>NaN</td>\n",
              "      <td>NaN</td>\n",
              "      <td>NaN</td>\n",
              "      <td>NaN</td>\n",
              "      <td>NaN</td>\n",
              "      <td>NaN</td>\n",
              "      <td>NaN</td>\n",
              "      <td>NaN</td>\n",
              "      <td>NaN</td>\n",
              "      <td>NaN</td>\n",
              "      <td>NaN</td>\n",
              "      <td>NaN</td>\n",
              "      <td>NaN</td>\n",
              "      <td>NaN</td>\n",
              "      <td>NaN</td>\n",
              "      <td>NaN</td>\n",
              "      <td>NaN</td>\n",
              "      <td>NaN</td>\n",
              "      <td>NaN</td>\n",
              "      <td>NaN</td>\n",
              "      <td>NaN</td>\n",
              "      <td>NaN</td>\n",
              "      <td>NaN</td>\n",
              "      <td>NaN</td>\n",
              "      <td>NaN</td>\n",
              "      <td>NaN</td>\n",
              "      <td>NaN</td>\n",
              "    </tr>\n",
              "    <tr>\n",
              "      <th>1</th>\n",
              "      <td>Arab World</td>\n",
              "      <td>ARB</td>\n",
              "      <td>Adjusted net enrolment rate, lower secondary, ...</td>\n",
              "      <td>UIS.NERA.2.F</td>\n",
              "      <td>NaN</td>\n",
              "      <td>NaN</td>\n",
              "      <td>NaN</td>\n",
              "      <td>NaN</td>\n",
              "      <td>NaN</td>\n",
              "      <td>NaN</td>\n",
              "      <td>NaN</td>\n",
              "      <td>NaN</td>\n",
              "      <td>NaN</td>\n",
              "      <td>NaN</td>\n",
              "      <td>NaN</td>\n",
              "      <td>NaN</td>\n",
              "      <td>NaN</td>\n",
              "      <td>NaN</td>\n",
              "      <td>NaN</td>\n",
              "      <td>NaN</td>\n",
              "      <td>NaN</td>\n",
              "      <td>NaN</td>\n",
              "      <td>NaN</td>\n",
              "      <td>NaN</td>\n",
              "      <td>NaN</td>\n",
              "      <td>NaN</td>\n",
              "      <td>NaN</td>\n",
              "      <td>NaN</td>\n",
              "      <td>NaN</td>\n",
              "      <td>NaN</td>\n",
              "      <td>NaN</td>\n",
              "      <td>NaN</td>\n",
              "      <td>NaN</td>\n",
              "      <td>NaN</td>\n",
              "      <td>NaN</td>\n",
              "      <td>NaN</td>\n",
              "      <td>NaN</td>\n",
              "      <td>NaN</td>\n",
              "      <td>NaN</td>\n",
              "      <td>NaN</td>\n",
              "      <td>NaN</td>\n",
              "      <td>NaN</td>\n",
              "      <td>NaN</td>\n",
              "      <td>NaN</td>\n",
              "      <td>NaN</td>\n",
              "      <td>NaN</td>\n",
              "      <td>NaN</td>\n",
              "      <td>NaN</td>\n",
              "      <td>NaN</td>\n",
              "      <td>NaN</td>\n",
              "      <td>NaN</td>\n",
              "      <td>NaN</td>\n",
              "      <td>NaN</td>\n",
              "      <td>NaN</td>\n",
              "      <td>NaN</td>\n",
              "      <td>NaN</td>\n",
              "      <td>NaN</td>\n",
              "      <td>NaN</td>\n",
              "      <td>NaN</td>\n",
              "      <td>NaN</td>\n",
              "      <td>NaN</td>\n",
              "      <td>NaN</td>\n",
              "      <td>NaN</td>\n",
              "      <td>NaN</td>\n",
              "      <td>NaN</td>\n",
              "      <td>NaN</td>\n",
              "      <td>NaN</td>\n",
              "      <td>NaN</td>\n",
              "      <td>NaN</td>\n",
              "      <td>NaN</td>\n",
              "    </tr>\n",
              "    <tr>\n",
              "      <th>2</th>\n",
              "      <td>Arab World</td>\n",
              "      <td>ARB</td>\n",
              "      <td>Adjusted net enrolment rate, lower secondary, ...</td>\n",
              "      <td>UIS.NERA.2.GPI</td>\n",
              "      <td>NaN</td>\n",
              "      <td>NaN</td>\n",
              "      <td>NaN</td>\n",
              "      <td>NaN</td>\n",
              "      <td>NaN</td>\n",
              "      <td>NaN</td>\n",
              "      <td>NaN</td>\n",
              "      <td>NaN</td>\n",
              "      <td>NaN</td>\n",
              "      <td>NaN</td>\n",
              "      <td>NaN</td>\n",
              "      <td>NaN</td>\n",
              "      <td>NaN</td>\n",
              "      <td>NaN</td>\n",
              "      <td>NaN</td>\n",
              "      <td>NaN</td>\n",
              "      <td>NaN</td>\n",
              "      <td>NaN</td>\n",
              "      <td>NaN</td>\n",
              "      <td>NaN</td>\n",
              "      <td>NaN</td>\n",
              "      <td>NaN</td>\n",
              "      <td>NaN</td>\n",
              "      <td>NaN</td>\n",
              "      <td>NaN</td>\n",
              "      <td>NaN</td>\n",
              "      <td>NaN</td>\n",
              "      <td>NaN</td>\n",
              "      <td>NaN</td>\n",
              "      <td>NaN</td>\n",
              "      <td>NaN</td>\n",
              "      <td>NaN</td>\n",
              "      <td>NaN</td>\n",
              "      <td>NaN</td>\n",
              "      <td>NaN</td>\n",
              "      <td>NaN</td>\n",
              "      <td>NaN</td>\n",
              "      <td>NaN</td>\n",
              "      <td>NaN</td>\n",
              "      <td>NaN</td>\n",
              "      <td>NaN</td>\n",
              "      <td>NaN</td>\n",
              "      <td>NaN</td>\n",
              "      <td>NaN</td>\n",
              "      <td>NaN</td>\n",
              "      <td>NaN</td>\n",
              "      <td>NaN</td>\n",
              "      <td>NaN</td>\n",
              "      <td>NaN</td>\n",
              "      <td>NaN</td>\n",
              "      <td>NaN</td>\n",
              "      <td>NaN</td>\n",
              "      <td>NaN</td>\n",
              "      <td>NaN</td>\n",
              "      <td>NaN</td>\n",
              "      <td>NaN</td>\n",
              "      <td>NaN</td>\n",
              "      <td>NaN</td>\n",
              "      <td>NaN</td>\n",
              "      <td>NaN</td>\n",
              "      <td>NaN</td>\n",
              "      <td>NaN</td>\n",
              "      <td>NaN</td>\n",
              "      <td>NaN</td>\n",
              "      <td>NaN</td>\n",
              "      <td>NaN</td>\n",
              "    </tr>\n",
              "    <tr>\n",
              "      <th>3</th>\n",
              "      <td>Arab World</td>\n",
              "      <td>ARB</td>\n",
              "      <td>Adjusted net enrolment rate, lower secondary, ...</td>\n",
              "      <td>UIS.NERA.2.M</td>\n",
              "      <td>NaN</td>\n",
              "      <td>NaN</td>\n",
              "      <td>NaN</td>\n",
              "      <td>NaN</td>\n",
              "      <td>NaN</td>\n",
              "      <td>NaN</td>\n",
              "      <td>NaN</td>\n",
              "      <td>NaN</td>\n",
              "      <td>NaN</td>\n",
              "      <td>NaN</td>\n",
              "      <td>NaN</td>\n",
              "      <td>NaN</td>\n",
              "      <td>NaN</td>\n",
              "      <td>NaN</td>\n",
              "      <td>NaN</td>\n",
              "      <td>NaN</td>\n",
              "      <td>NaN</td>\n",
              "      <td>NaN</td>\n",
              "      <td>NaN</td>\n",
              "      <td>NaN</td>\n",
              "      <td>NaN</td>\n",
              "      <td>NaN</td>\n",
              "      <td>NaN</td>\n",
              "      <td>NaN</td>\n",
              "      <td>NaN</td>\n",
              "      <td>NaN</td>\n",
              "      <td>NaN</td>\n",
              "      <td>NaN</td>\n",
              "      <td>NaN</td>\n",
              "      <td>NaN</td>\n",
              "      <td>NaN</td>\n",
              "      <td>NaN</td>\n",
              "      <td>NaN</td>\n",
              "      <td>NaN</td>\n",
              "      <td>NaN</td>\n",
              "      <td>NaN</td>\n",
              "      <td>NaN</td>\n",
              "      <td>NaN</td>\n",
              "      <td>NaN</td>\n",
              "      <td>NaN</td>\n",
              "      <td>NaN</td>\n",
              "      <td>NaN</td>\n",
              "      <td>NaN</td>\n",
              "      <td>NaN</td>\n",
              "      <td>NaN</td>\n",
              "      <td>NaN</td>\n",
              "      <td>NaN</td>\n",
              "      <td>NaN</td>\n",
              "      <td>NaN</td>\n",
              "      <td>NaN</td>\n",
              "      <td>NaN</td>\n",
              "      <td>NaN</td>\n",
              "      <td>NaN</td>\n",
              "      <td>NaN</td>\n",
              "      <td>NaN</td>\n",
              "      <td>NaN</td>\n",
              "      <td>NaN</td>\n",
              "      <td>NaN</td>\n",
              "      <td>NaN</td>\n",
              "      <td>NaN</td>\n",
              "      <td>NaN</td>\n",
              "      <td>NaN</td>\n",
              "      <td>NaN</td>\n",
              "      <td>NaN</td>\n",
              "      <td>NaN</td>\n",
              "      <td>NaN</td>\n",
              "    </tr>\n",
              "    <tr>\n",
              "      <th>4</th>\n",
              "      <td>Arab World</td>\n",
              "      <td>ARB</td>\n",
              "      <td>Adjusted net enrolment rate, primary, both sex...</td>\n",
              "      <td>SE.PRM.TENR</td>\n",
              "      <td>54.822121</td>\n",
              "      <td>54.894138</td>\n",
              "      <td>56.209438</td>\n",
              "      <td>57.267109</td>\n",
              "      <td>57.991138</td>\n",
              "      <td>59.36554</td>\n",
              "      <td>60.999962</td>\n",
              "      <td>61.92268</td>\n",
              "      <td>62.69342</td>\n",
              "      <td>64.383186</td>\n",
              "      <td>65.617767</td>\n",
              "      <td>66.085152</td>\n",
              "      <td>66.608139</td>\n",
              "      <td>67.290451</td>\n",
              "      <td>68.510094</td>\n",
              "      <td>69.033211</td>\n",
              "      <td>69.944908</td>\n",
              "      <td>71.04187</td>\n",
              "      <td>71.693779</td>\n",
              "      <td>71.699097</td>\n",
              "      <td>71.995819</td>\n",
              "      <td>72.602837</td>\n",
              "      <td>70.032722</td>\n",
              "      <td>70.464821</td>\n",
              "      <td>72.645683</td>\n",
              "      <td>71.81176</td>\n",
              "      <td>73.903511</td>\n",
              "      <td>74.425201</td>\n",
              "      <td>75.110817</td>\n",
              "      <td>76.254318</td>\n",
              "      <td>77.245682</td>\n",
              "      <td>78.800522</td>\n",
              "      <td>80.051399</td>\n",
              "      <td>80.805389</td>\n",
              "      <td>81.607063</td>\n",
              "      <td>82.489487</td>\n",
              "      <td>82.685509</td>\n",
              "      <td>83.280342</td>\n",
              "      <td>84.011871</td>\n",
              "      <td>84.195961</td>\n",
              "      <td>85.211998</td>\n",
              "      <td>85.24514</td>\n",
              "      <td>86.101669</td>\n",
              "      <td>85.51194</td>\n",
              "      <td>85.320152</td>\n",
              "      <td>NaN</td>\n",
              "      <td>NaN</td>\n",
              "      <td>NaN</td>\n",
              "      <td>NaN</td>\n",
              "      <td>NaN</td>\n",
              "      <td>NaN</td>\n",
              "      <td>NaN</td>\n",
              "      <td>NaN</td>\n",
              "      <td>NaN</td>\n",
              "      <td>NaN</td>\n",
              "      <td>NaN</td>\n",
              "      <td>NaN</td>\n",
              "      <td>NaN</td>\n",
              "      <td>NaN</td>\n",
              "      <td>NaN</td>\n",
              "      <td>NaN</td>\n",
              "      <td>NaN</td>\n",
              "      <td>NaN</td>\n",
              "      <td>NaN</td>\n",
              "      <td>NaN</td>\n",
              "      <td>NaN</td>\n",
              "    </tr>\n",
              "  </tbody>\n",
              "</table>\n",
              "</div>"
            ],
            "text/plain": [
              "  Country Name Country Code  ... 2100 Unnamed: 69\n",
              "0   Arab World          ARB  ...  NaN         NaN\n",
              "1   Arab World          ARB  ...  NaN         NaN\n",
              "2   Arab World          ARB  ...  NaN         NaN\n",
              "3   Arab World          ARB  ...  NaN         NaN\n",
              "4   Arab World          ARB  ...  NaN         NaN\n",
              "\n",
              "[5 rows x 70 columns]"
            ]
          },
          "metadata": {},
          "execution_count": 7
        }
      ]
    },
    {
      "cell_type": "markdown",
      "metadata": {
        "id": "PiVA15vmDC9U"
      },
      "source": [
        "Let's check Edstats Country Series data...."
      ]
    },
    {
      "cell_type": "markdown",
      "metadata": {
        "id": "-K80k4SMDD_1"
      },
      "source": [
        "##<b>EdStats Country Series<b>"
      ]
    },
    {
      "cell_type": "markdown",
      "metadata": {
        "id": "98zigDzoDMQU"
      },
      "source": [
        "Contains repeated data....\n",
        "\n"
      ]
    },
    {
      "cell_type": "code",
      "metadata": {
        "colab": {
          "base_uri": "https://localhost:8080/"
        },
        "id": "iZ5axdxoDPIK",
        "outputId": "87fa3c29-199e-40d6-da80-55993e1e4bdc"
      },
      "source": [
        "Edstats_country_series_df.info()"
      ],
      "execution_count": 8,
      "outputs": [
        {
          "output_type": "stream",
          "name": "stdout",
          "text": [
            "<class 'pandas.core.frame.DataFrame'>\n",
            "RangeIndex: 613 entries, 0 to 612\n",
            "Data columns (total 4 columns):\n",
            " #   Column       Non-Null Count  Dtype  \n",
            "---  ------       --------------  -----  \n",
            " 0   CountryCode  613 non-null    object \n",
            " 1   SeriesCode   613 non-null    object \n",
            " 2   DESCRIPTION  613 non-null    object \n",
            " 3   Unnamed: 3   0 non-null      float64\n",
            "dtypes: float64(1), object(3)\n",
            "memory usage: 19.3+ KB\n"
          ]
        }
      ]
    },
    {
      "cell_type": "code",
      "metadata": {
        "colab": {
          "base_uri": "https://localhost:8080/"
        },
        "id": "R2W2GuxdDYNr",
        "outputId": "be88ac5b-329b-46eb-d617-4037a492eee8"
      },
      "source": [
        "Edstats_country_series_df.shape"
      ],
      "execution_count": 9,
      "outputs": [
        {
          "output_type": "execute_result",
          "data": {
            "text/plain": [
              "(613, 4)"
            ]
          },
          "metadata": {},
          "execution_count": 9
        }
      ]
    },
    {
      "cell_type": "code",
      "metadata": {
        "colab": {
          "base_uri": "https://localhost:8080/",
          "height": 692
        },
        "id": "acVmE0YODaYc",
        "outputId": "6da37cc5-a69e-40d8-f117-acba025c3063"
      },
      "source": [
        "Edstats_country_series_df.groupby(\"SeriesCode\").first().reset_index()"
      ],
      "execution_count": 10,
      "outputs": [
        {
          "output_type": "execute_result",
          "data": {
            "text/html": [
              "<div>\n",
              "<style scoped>\n",
              "    .dataframe tbody tr th:only-of-type {\n",
              "        vertical-align: middle;\n",
              "    }\n",
              "\n",
              "    .dataframe tbody tr th {\n",
              "        vertical-align: top;\n",
              "    }\n",
              "\n",
              "    .dataframe thead th {\n",
              "        text-align: right;\n",
              "    }\n",
              "</style>\n",
              "<table border=\"1\" class=\"dataframe\">\n",
              "  <thead>\n",
              "    <tr style=\"text-align: right;\">\n",
              "      <th></th>\n",
              "      <th>SeriesCode</th>\n",
              "      <th>CountryCode</th>\n",
              "      <th>DESCRIPTION</th>\n",
              "      <th>Unnamed: 3</th>\n",
              "    </tr>\n",
              "  </thead>\n",
              "  <tbody>\n",
              "    <tr>\n",
              "      <th>0</th>\n",
              "      <td>NY.GDP.MKTP.PP.CD</td>\n",
              "      <td>AFG</td>\n",
              "      <td>Estimates are based on regression.</td>\n",
              "      <td>NaN</td>\n",
              "    </tr>\n",
              "    <tr>\n",
              "      <th>1</th>\n",
              "      <td>NY.GDP.MKTP.PP.KD</td>\n",
              "      <td>AFG</td>\n",
              "      <td>Estimates are based on regression.</td>\n",
              "      <td>NaN</td>\n",
              "    </tr>\n",
              "    <tr>\n",
              "      <th>2</th>\n",
              "      <td>NY.GDP.PCAP.CD</td>\n",
              "      <td>CYP</td>\n",
              "      <td>Data are for areas under the effective control...</td>\n",
              "      <td>NaN</td>\n",
              "    </tr>\n",
              "    <tr>\n",
              "      <th>3</th>\n",
              "      <td>NY.GDP.PCAP.KD</td>\n",
              "      <td>CYP</td>\n",
              "      <td>Data are for areas under the effective control...</td>\n",
              "      <td>NaN</td>\n",
              "    </tr>\n",
              "    <tr>\n",
              "      <th>4</th>\n",
              "      <td>NY.GDP.PCAP.PP.CD</td>\n",
              "      <td>AFG</td>\n",
              "      <td>Estimates are based on regression.</td>\n",
              "      <td>NaN</td>\n",
              "    </tr>\n",
              "    <tr>\n",
              "      <th>5</th>\n",
              "      <td>NY.GDP.PCAP.PP.KD</td>\n",
              "      <td>AFG</td>\n",
              "      <td>Estimates are based on regression.</td>\n",
              "      <td>NaN</td>\n",
              "    </tr>\n",
              "    <tr>\n",
              "      <th>6</th>\n",
              "      <td>NY.GNP.MKTP.PP.CD</td>\n",
              "      <td>AFG</td>\n",
              "      <td>Estimates are based on regression.</td>\n",
              "      <td>NaN</td>\n",
              "    </tr>\n",
              "    <tr>\n",
              "      <th>7</th>\n",
              "      <td>NY.GNP.PCAP.CD</td>\n",
              "      <td>CYP</td>\n",
              "      <td>Data are for areas under the effective control...</td>\n",
              "      <td>NaN</td>\n",
              "    </tr>\n",
              "    <tr>\n",
              "      <th>8</th>\n",
              "      <td>NY.GNP.PCAP.PP.CD</td>\n",
              "      <td>AFG</td>\n",
              "      <td>Estimates are based on regression.</td>\n",
              "      <td>NaN</td>\n",
              "    </tr>\n",
              "    <tr>\n",
              "      <th>9</th>\n",
              "      <td>SP.POP.0014.FE.IN</td>\n",
              "      <td>GEO</td>\n",
              "      <td>Derived using ratio of age group from WPP and ...</td>\n",
              "      <td>NaN</td>\n",
              "    </tr>\n",
              "    <tr>\n",
              "      <th>10</th>\n",
              "      <td>SP.POP.0014.MA.IN</td>\n",
              "      <td>GEO</td>\n",
              "      <td>Derived using ratio of age group from WPP and ...</td>\n",
              "      <td>NaN</td>\n",
              "    </tr>\n",
              "    <tr>\n",
              "      <th>11</th>\n",
              "      <td>SP.POP.0014.TO</td>\n",
              "      <td>GEO</td>\n",
              "      <td>Derived using ratio of age group from WPP and ...</td>\n",
              "      <td>NaN</td>\n",
              "    </tr>\n",
              "    <tr>\n",
              "      <th>12</th>\n",
              "      <td>SP.POP.0014.TO.ZS</td>\n",
              "      <td>AUS</td>\n",
              "      <td>Including Other Territories comprising Jervis ...</td>\n",
              "      <td>NaN</td>\n",
              "    </tr>\n",
              "    <tr>\n",
              "      <th>13</th>\n",
              "      <td>SP.POP.1564.FE.IN</td>\n",
              "      <td>GEO</td>\n",
              "      <td>Derived using ratio of age group from WPP and ...</td>\n",
              "      <td>NaN</td>\n",
              "    </tr>\n",
              "    <tr>\n",
              "      <th>14</th>\n",
              "      <td>SP.POP.1564.MA.IN</td>\n",
              "      <td>GEO</td>\n",
              "      <td>Derived using ratio of age group from WPP and ...</td>\n",
              "      <td>NaN</td>\n",
              "    </tr>\n",
              "    <tr>\n",
              "      <th>15</th>\n",
              "      <td>SP.POP.1564.TO</td>\n",
              "      <td>GEO</td>\n",
              "      <td>Derived using ratio of age group from WPP and ...</td>\n",
              "      <td>NaN</td>\n",
              "    </tr>\n",
              "    <tr>\n",
              "      <th>16</th>\n",
              "      <td>SP.POP.1564.TO.ZS</td>\n",
              "      <td>AUS</td>\n",
              "      <td>Including Other Territories comprising Jervis ...</td>\n",
              "      <td>NaN</td>\n",
              "    </tr>\n",
              "    <tr>\n",
              "      <th>17</th>\n",
              "      <td>SP.POP.GROW</td>\n",
              "      <td>ABW</td>\n",
              "      <td>Data sources: United Nations World Population ...</td>\n",
              "      <td>NaN</td>\n",
              "    </tr>\n",
              "    <tr>\n",
              "      <th>18</th>\n",
              "      <td>SP.POP.TOTL</td>\n",
              "      <td>ABW</td>\n",
              "      <td>Data sources : United Nations World Population...</td>\n",
              "      <td>NaN</td>\n",
              "    </tr>\n",
              "    <tr>\n",
              "      <th>19</th>\n",
              "      <td>SP.POP.TOTL.FE.ZS</td>\n",
              "      <td>AUS</td>\n",
              "      <td>Including Other Territories comprising Jervis ...</td>\n",
              "      <td>NaN</td>\n",
              "    </tr>\n",
              "    <tr>\n",
              "      <th>20</th>\n",
              "      <td>SP.POP.TOTL.MA.ZS</td>\n",
              "      <td>AUS</td>\n",
              "      <td>Including Other Territories comprising Jervis ...</td>\n",
              "      <td>NaN</td>\n",
              "    </tr>\n",
              "  </tbody>\n",
              "</table>\n",
              "</div>"
            ],
            "text/plain": [
              "           SeriesCode  ... Unnamed: 3\n",
              "0   NY.GDP.MKTP.PP.CD  ...        NaN\n",
              "1   NY.GDP.MKTP.PP.KD  ...        NaN\n",
              "2      NY.GDP.PCAP.CD  ...        NaN\n",
              "3      NY.GDP.PCAP.KD  ...        NaN\n",
              "4   NY.GDP.PCAP.PP.CD  ...        NaN\n",
              "5   NY.GDP.PCAP.PP.KD  ...        NaN\n",
              "6   NY.GNP.MKTP.PP.CD  ...        NaN\n",
              "7      NY.GNP.PCAP.CD  ...        NaN\n",
              "8   NY.GNP.PCAP.PP.CD  ...        NaN\n",
              "9   SP.POP.0014.FE.IN  ...        NaN\n",
              "10  SP.POP.0014.MA.IN  ...        NaN\n",
              "11     SP.POP.0014.TO  ...        NaN\n",
              "12  SP.POP.0014.TO.ZS  ...        NaN\n",
              "13  SP.POP.1564.FE.IN  ...        NaN\n",
              "14  SP.POP.1564.MA.IN  ...        NaN\n",
              "15     SP.POP.1564.TO  ...        NaN\n",
              "16  SP.POP.1564.TO.ZS  ...        NaN\n",
              "17        SP.POP.GROW  ...        NaN\n",
              "18        SP.POP.TOTL  ...        NaN\n",
              "19  SP.POP.TOTL.FE.ZS  ...        NaN\n",
              "20  SP.POP.TOTL.MA.ZS  ...        NaN\n",
              "\n",
              "[21 rows x 4 columns]"
            ]
          },
          "metadata": {},
          "execution_count": 10
        }
      ]
    },
    {
      "cell_type": "markdown",
      "metadata": {
        "id": "zgr6hQI_DeAW"
      },
      "source": [
        "In both of these datasets, Unnamed Columns were present with all null values. In this we, also analyze that column 'Country Code' and 'Series Code' were given in that Country code is similar but Series Code has some values in it. Just keep checking further to have more analysis."
      ]
    }
  ]
}